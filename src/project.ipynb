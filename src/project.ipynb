{
 "cells": [
  {
   "cell_type": "markdown",
   "id": "7411461c",
   "metadata": {},
   "source": [
    "# Importação das bibliotecas"
   ]
  },
  {
   "cell_type": "code",
   "execution_count": 1,
   "id": "eb2e4539",
   "metadata": {},
   "outputs": [],
   "source": [
    "import numpy as np\n",
    "import pandas as pd\n",
    "import matplotlib.pyplot as plt\n",
    "import seaborn as sns\n",
    "from sklearn.linear_model import LinearRegression\n",
    "import statsmodels.api as sm\n",
    "from scipy.stats import normaltest\n",
    "from scipy.stats import norm\n",
    "from scipy.stats import t as t_student\n",
    "from sklearn.model_selection import train_test_split\n",
    "from scipy.stats import pearsonr\n",
    "from sklearn.metrics import r2_score\n",
    "from sklearn.metrics import mean_squared_error\n",
    "from sklearn.metrics import mean_absolute_error\n",
    "from sklearn.metrics import mean_squared_log_error\n",
    "\n",
    "sns.set()"
   ]
  },
  {
   "cell_type": "markdown",
   "id": "e7a4f33c",
   "metadata": {},
   "source": [
    "# Dataframe"
   ]
  },
  {
   "cell_type": "code",
   "execution_count": 2,
   "id": "a008eba8",
   "metadata": {},
   "outputs": [
    {
     "data": {
      "text/html": [
       "<div>\n",
       "<style scoped>\n",
       "    .dataframe tbody tr th:only-of-type {\n",
       "        vertical-align: middle;\n",
       "    }\n",
       "\n",
       "    .dataframe tbody tr th {\n",
       "        vertical-align: top;\n",
       "    }\n",
       "\n",
       "    .dataframe thead th {\n",
       "        text-align: right;\n",
       "    }\n",
       "</style>\n",
       "<table border=\"1\" class=\"dataframe\">\n",
       "  <thead>\n",
       "    <tr style=\"text-align: right;\">\n",
       "      <th></th>\n",
       "      <th>Total Household Income</th>\n",
       "      <th>Region</th>\n",
       "      <th>Total Food Expenditure</th>\n",
       "      <th>Main Source of Income</th>\n",
       "      <th>Agricultural Household indicator</th>\n",
       "      <th>Bread and Cereals Expenditure</th>\n",
       "      <th>Total Rice Expenditure</th>\n",
       "      <th>Meat Expenditure</th>\n",
       "      <th>Total Fish and  marine products Expenditure</th>\n",
       "      <th>Fruit Expenditure</th>\n",
       "      <th>...</th>\n",
       "      <th>Number of Refrigerator/Freezer</th>\n",
       "      <th>Number of Washing Machine</th>\n",
       "      <th>Number of Airconditioner</th>\n",
       "      <th>Number of Car, Jeep, Van</th>\n",
       "      <th>Number of Landline/wireless telephones</th>\n",
       "      <th>Number of Cellular phone</th>\n",
       "      <th>Number of Personal Computer</th>\n",
       "      <th>Number of Stove with Oven/Gas Range</th>\n",
       "      <th>Number of Motorized Banca</th>\n",
       "      <th>Number of Motorcycle/Tricycle</th>\n",
       "    </tr>\n",
       "  </thead>\n",
       "  <tbody>\n",
       "    <tr>\n",
       "      <th>0</th>\n",
       "      <td>480332</td>\n",
       "      <td>CAR</td>\n",
       "      <td>117848</td>\n",
       "      <td>Wage/Salaries</td>\n",
       "      <td>0</td>\n",
       "      <td>42140</td>\n",
       "      <td>38300</td>\n",
       "      <td>24676</td>\n",
       "      <td>16806</td>\n",
       "      <td>3325</td>\n",
       "      <td>...</td>\n",
       "      <td>1</td>\n",
       "      <td>1</td>\n",
       "      <td>0</td>\n",
       "      <td>0</td>\n",
       "      <td>0</td>\n",
       "      <td>2</td>\n",
       "      <td>1</td>\n",
       "      <td>0</td>\n",
       "      <td>0</td>\n",
       "      <td>1</td>\n",
       "    </tr>\n",
       "    <tr>\n",
       "      <th>1</th>\n",
       "      <td>198235</td>\n",
       "      <td>CAR</td>\n",
       "      <td>67766</td>\n",
       "      <td>Wage/Salaries</td>\n",
       "      <td>0</td>\n",
       "      <td>17329</td>\n",
       "      <td>13008</td>\n",
       "      <td>17434</td>\n",
       "      <td>11073</td>\n",
       "      <td>2035</td>\n",
       "      <td>...</td>\n",
       "      <td>0</td>\n",
       "      <td>1</td>\n",
       "      <td>0</td>\n",
       "      <td>0</td>\n",
       "      <td>0</td>\n",
       "      <td>3</td>\n",
       "      <td>1</td>\n",
       "      <td>0</td>\n",
       "      <td>0</td>\n",
       "      <td>2</td>\n",
       "    </tr>\n",
       "    <tr>\n",
       "      <th>2</th>\n",
       "      <td>82785</td>\n",
       "      <td>CAR</td>\n",
       "      <td>61609</td>\n",
       "      <td>Wage/Salaries</td>\n",
       "      <td>1</td>\n",
       "      <td>34182</td>\n",
       "      <td>32001</td>\n",
       "      <td>7783</td>\n",
       "      <td>2590</td>\n",
       "      <td>1730</td>\n",
       "      <td>...</td>\n",
       "      <td>0</td>\n",
       "      <td>0</td>\n",
       "      <td>0</td>\n",
       "      <td>0</td>\n",
       "      <td>0</td>\n",
       "      <td>0</td>\n",
       "      <td>0</td>\n",
       "      <td>0</td>\n",
       "      <td>0</td>\n",
       "      <td>0</td>\n",
       "    </tr>\n",
       "    <tr>\n",
       "      <th>3</th>\n",
       "      <td>107589</td>\n",
       "      <td>CAR</td>\n",
       "      <td>78189</td>\n",
       "      <td>Wage/Salaries</td>\n",
       "      <td>0</td>\n",
       "      <td>34030</td>\n",
       "      <td>28659</td>\n",
       "      <td>10914</td>\n",
       "      <td>10812</td>\n",
       "      <td>690</td>\n",
       "      <td>...</td>\n",
       "      <td>0</td>\n",
       "      <td>0</td>\n",
       "      <td>0</td>\n",
       "      <td>0</td>\n",
       "      <td>0</td>\n",
       "      <td>1</td>\n",
       "      <td>0</td>\n",
       "      <td>0</td>\n",
       "      <td>0</td>\n",
       "      <td>0</td>\n",
       "    </tr>\n",
       "    <tr>\n",
       "      <th>4</th>\n",
       "      <td>189322</td>\n",
       "      <td>CAR</td>\n",
       "      <td>94625</td>\n",
       "      <td>Wage/Salaries</td>\n",
       "      <td>0</td>\n",
       "      <td>34820</td>\n",
       "      <td>30167</td>\n",
       "      <td>18391</td>\n",
       "      <td>11309</td>\n",
       "      <td>1395</td>\n",
       "      <td>...</td>\n",
       "      <td>1</td>\n",
       "      <td>0</td>\n",
       "      <td>0</td>\n",
       "      <td>0</td>\n",
       "      <td>0</td>\n",
       "      <td>3</td>\n",
       "      <td>0</td>\n",
       "      <td>0</td>\n",
       "      <td>0</td>\n",
       "      <td>1</td>\n",
       "    </tr>\n",
       "  </tbody>\n",
       "</table>\n",
       "<p>5 rows × 60 columns</p>\n",
       "</div>"
      ],
      "text/plain": [
       "   Total Household Income Region  Total Food Expenditure  \\\n",
       "0                  480332    CAR                  117848   \n",
       "1                  198235    CAR                   67766   \n",
       "2                   82785    CAR                   61609   \n",
       "3                  107589    CAR                   78189   \n",
       "4                  189322    CAR                   94625   \n",
       "\n",
       "  Main Source of Income  Agricultural Household indicator  \\\n",
       "0         Wage/Salaries                                 0   \n",
       "1         Wage/Salaries                                 0   \n",
       "2         Wage/Salaries                                 1   \n",
       "3         Wage/Salaries                                 0   \n",
       "4         Wage/Salaries                                 0   \n",
       "\n",
       "   Bread and Cereals Expenditure  Total Rice Expenditure  Meat Expenditure  \\\n",
       "0                          42140                   38300             24676   \n",
       "1                          17329                   13008             17434   \n",
       "2                          34182                   32001              7783   \n",
       "3                          34030                   28659             10914   \n",
       "4                          34820                   30167             18391   \n",
       "\n",
       "   Total Fish and  marine products Expenditure  Fruit Expenditure  ...  \\\n",
       "0                                        16806               3325  ...   \n",
       "1                                        11073               2035  ...   \n",
       "2                                         2590               1730  ...   \n",
       "3                                        10812                690  ...   \n",
       "4                                        11309               1395  ...   \n",
       "\n",
       "   Number of Refrigerator/Freezer  Number of Washing Machine  \\\n",
       "0                               1                          1   \n",
       "1                               0                          1   \n",
       "2                               0                          0   \n",
       "3                               0                          0   \n",
       "4                               1                          0   \n",
       "\n",
       "   Number of Airconditioner  Number of Car, Jeep, Van  \\\n",
       "0                         0                         0   \n",
       "1                         0                         0   \n",
       "2                         0                         0   \n",
       "3                         0                         0   \n",
       "4                         0                         0   \n",
       "\n",
       "   Number of Landline/wireless telephones  Number of Cellular phone  \\\n",
       "0                                       0                         2   \n",
       "1                                       0                         3   \n",
       "2                                       0                         0   \n",
       "3                                       0                         1   \n",
       "4                                       0                         3   \n",
       "\n",
       "   Number of Personal Computer  Number of Stove with Oven/Gas Range  \\\n",
       "0                            1                                    0   \n",
       "1                            1                                    0   \n",
       "2                            0                                    0   \n",
       "3                            0                                    0   \n",
       "4                            0                                    0   \n",
       "\n",
       "   Number of Motorized Banca  Number of Motorcycle/Tricycle  \n",
       "0                          0                              1  \n",
       "1                          0                              2  \n",
       "2                          0                              0  \n",
       "3                          0                              0  \n",
       "4                          0                              1  \n",
       "\n",
       "[5 rows x 60 columns]"
      ]
     },
     "execution_count": 2,
     "metadata": {},
     "output_type": "execute_result"
    }
   ],
   "source": [
    "df = pd.read_csv('https://s3-sa-east-1.amazonaws.com/lcpi/97fe77d1-2aec-4660-a799-c6eaccd14ea7.csv')\n",
    "\n",
    "df.head()"
   ]
  },
  {
   "cell_type": "code",
   "execution_count": 3,
   "id": "4af5b2b4",
   "metadata": {},
   "outputs": [
    {
     "data": {
      "text/plain": [
       "Index(['Total Household Income', 'Region', 'Total Food Expenditure',\n",
       "       'Main Source of Income', 'Agricultural Household indicator',\n",
       "       'Bread and Cereals Expenditure', 'Total Rice Expenditure',\n",
       "       'Meat Expenditure', 'Total Fish and  marine products Expenditure',\n",
       "       'Fruit Expenditure', 'Vegetables Expenditure',\n",
       "       'Restaurant and hotels Expenditure', 'Alcoholic Beverages Expenditure',\n",
       "       'Tobacco Expenditure', 'Clothing, Footwear and Other Wear Expenditure',\n",
       "       'Housing and water Expenditure', 'Imputed House Rental Value',\n",
       "       'Medical Care Expenditure', 'Transportation Expenditure',\n",
       "       'Communication Expenditure', 'Education Expenditure',\n",
       "       'Miscellaneous Goods and Services Expenditure',\n",
       "       'Special Occasions Expenditure', 'Crop Farming and Gardening expenses',\n",
       "       'Total Income from Entrepreneurial Acitivites', 'Household Head Sex',\n",
       "       'Household Head Age', 'Household Head Marital Status',\n",
       "       'Household Head Highest Grade Completed',\n",
       "       'Household Head Job or Business Indicator', 'Household Head Occupation',\n",
       "       'Household Head Class of Worker', 'Type of Household',\n",
       "       'Total Number of Family members',\n",
       "       'Members with age less than 5 year old',\n",
       "       'Members with age 5 - 17 years old',\n",
       "       'Total number of family members employed', 'Type of Building/House',\n",
       "       'Type of Roof', 'Type of Walls', 'House Floor Area', 'House Age',\n",
       "       'Number of bedrooms', 'Tenure Status', 'Toilet Facilities',\n",
       "       'Electricity', 'Main Source of Water Supply', 'Number of Television',\n",
       "       'Number of CD/VCD/DVD', 'Number of Component/Stereo set',\n",
       "       'Number of Refrigerator/Freezer', 'Number of Washing Machine',\n",
       "       'Number of Airconditioner', 'Number of Car, Jeep, Van',\n",
       "       'Number of Landline/wireless telephones', 'Number of Cellular phone',\n",
       "       'Number of Personal Computer', 'Number of Stove with Oven/Gas Range',\n",
       "       'Number of Motorized Banca', 'Number of Motorcycle/Tricycle'],\n",
       "      dtype='object')"
      ]
     },
     "execution_count": 3,
     "metadata": {},
     "output_type": "execute_result"
    }
   ],
   "source": [
    "df.columns"
   ]
  },
  {
   "cell_type": "code",
   "execution_count": 4,
   "id": "0390d121",
   "metadata": {},
   "outputs": [
    {
     "data": {
      "text/html": [
       "<div>\n",
       "<style scoped>\n",
       "    .dataframe tbody tr th:only-of-type {\n",
       "        vertical-align: middle;\n",
       "    }\n",
       "\n",
       "    .dataframe tbody tr th {\n",
       "        vertical-align: top;\n",
       "    }\n",
       "\n",
       "    .dataframe thead th {\n",
       "        text-align: right;\n",
       "    }\n",
       "</style>\n",
       "<table border=\"1\" class=\"dataframe\">\n",
       "  <thead>\n",
       "    <tr style=\"text-align: right;\">\n",
       "      <th></th>\n",
       "      <th>Total Household Income</th>\n",
       "      <th>Total Food Expenditure</th>\n",
       "      <th>Agricultural Household indicator</th>\n",
       "      <th>Bread and Cereals Expenditure</th>\n",
       "      <th>Total Rice Expenditure</th>\n",
       "      <th>Meat Expenditure</th>\n",
       "      <th>Total Fish and  marine products Expenditure</th>\n",
       "      <th>Fruit Expenditure</th>\n",
       "      <th>Vegetables Expenditure</th>\n",
       "      <th>Restaurant and hotels Expenditure</th>\n",
       "      <th>...</th>\n",
       "      <th>Number of Refrigerator/Freezer</th>\n",
       "      <th>Number of Washing Machine</th>\n",
       "      <th>Number of Airconditioner</th>\n",
       "      <th>Number of Car, Jeep, Van</th>\n",
       "      <th>Number of Landline/wireless telephones</th>\n",
       "      <th>Number of Cellular phone</th>\n",
       "      <th>Number of Personal Computer</th>\n",
       "      <th>Number of Stove with Oven/Gas Range</th>\n",
       "      <th>Number of Motorized Banca</th>\n",
       "      <th>Number of Motorcycle/Tricycle</th>\n",
       "    </tr>\n",
       "  </thead>\n",
       "  <tbody>\n",
       "    <tr>\n",
       "      <th>count</th>\n",
       "      <td>4.154400e+04</td>\n",
       "      <td>41544.000000</td>\n",
       "      <td>41544.000000</td>\n",
       "      <td>41544.000000</td>\n",
       "      <td>41544.000000</td>\n",
       "      <td>41544.000000</td>\n",
       "      <td>41544.000000</td>\n",
       "      <td>41544.000000</td>\n",
       "      <td>41544.000000</td>\n",
       "      <td>41544.000000</td>\n",
       "      <td>...</td>\n",
       "      <td>41544.000000</td>\n",
       "      <td>41544.000000</td>\n",
       "      <td>41544.000000</td>\n",
       "      <td>41544.000000</td>\n",
       "      <td>41544.000000</td>\n",
       "      <td>41544.000000</td>\n",
       "      <td>41544.000000</td>\n",
       "      <td>41544.000000</td>\n",
       "      <td>41544.000000</td>\n",
       "      <td>41544.000000</td>\n",
       "    </tr>\n",
       "    <tr>\n",
       "      <th>mean</th>\n",
       "      <td>2.475556e+05</td>\n",
       "      <td>85099.158194</td>\n",
       "      <td>0.429858</td>\n",
       "      <td>25133.723642</td>\n",
       "      <td>18195.825005</td>\n",
       "      <td>10540.072574</td>\n",
       "      <td>10529.318337</td>\n",
       "      <td>2550.474990</td>\n",
       "      <td>5006.918568</td>\n",
       "      <td>15436.566075</td>\n",
       "      <td>...</td>\n",
       "      <td>0.394184</td>\n",
       "      <td>0.319806</td>\n",
       "      <td>0.129814</td>\n",
       "      <td>0.081215</td>\n",
       "      <td>0.060610</td>\n",
       "      <td>1.905738</td>\n",
       "      <td>0.315015</td>\n",
       "      <td>0.135038</td>\n",
       "      <td>0.013119</td>\n",
       "      <td>0.289885</td>\n",
       "    </tr>\n",
       "    <tr>\n",
       "      <th>std</th>\n",
       "      <td>2.868805e+05</td>\n",
       "      <td>51637.947682</td>\n",
       "      <td>0.676666</td>\n",
       "      <td>13466.482984</td>\n",
       "      <td>11727.224350</td>\n",
       "      <td>10497.727757</td>\n",
       "      <td>7812.201613</td>\n",
       "      <td>2969.752879</td>\n",
       "      <td>3300.175236</td>\n",
       "      <td>23705.195929</td>\n",
       "      <td>...</td>\n",
       "      <td>0.537025</td>\n",
       "      <td>0.478482</td>\n",
       "      <td>0.448673</td>\n",
       "      <td>0.346786</td>\n",
       "      <td>0.276732</td>\n",
       "      <td>1.558130</td>\n",
       "      <td>0.739698</td>\n",
       "      <td>0.354083</td>\n",
       "      <td>0.127171</td>\n",
       "      <td>0.558408</td>\n",
       "    </tr>\n",
       "    <tr>\n",
       "      <th>min</th>\n",
       "      <td>1.128500e+04</td>\n",
       "      <td>2947.000000</td>\n",
       "      <td>0.000000</td>\n",
       "      <td>0.000000</td>\n",
       "      <td>0.000000</td>\n",
       "      <td>0.000000</td>\n",
       "      <td>0.000000</td>\n",
       "      <td>0.000000</td>\n",
       "      <td>0.000000</td>\n",
       "      <td>0.000000</td>\n",
       "      <td>...</td>\n",
       "      <td>0.000000</td>\n",
       "      <td>0.000000</td>\n",
       "      <td>0.000000</td>\n",
       "      <td>0.000000</td>\n",
       "      <td>0.000000</td>\n",
       "      <td>0.000000</td>\n",
       "      <td>0.000000</td>\n",
       "      <td>0.000000</td>\n",
       "      <td>0.000000</td>\n",
       "      <td>0.000000</td>\n",
       "    </tr>\n",
       "    <tr>\n",
       "      <th>25%</th>\n",
       "      <td>1.048950e+05</td>\n",
       "      <td>51017.250000</td>\n",
       "      <td>0.000000</td>\n",
       "      <td>16556.000000</td>\n",
       "      <td>11020.000000</td>\n",
       "      <td>3353.750000</td>\n",
       "      <td>5504.000000</td>\n",
       "      <td>1024.750000</td>\n",
       "      <td>2873.000000</td>\n",
       "      <td>1930.000000</td>\n",
       "      <td>...</td>\n",
       "      <td>0.000000</td>\n",
       "      <td>0.000000</td>\n",
       "      <td>0.000000</td>\n",
       "      <td>0.000000</td>\n",
       "      <td>0.000000</td>\n",
       "      <td>1.000000</td>\n",
       "      <td>0.000000</td>\n",
       "      <td>0.000000</td>\n",
       "      <td>0.000000</td>\n",
       "      <td>0.000000</td>\n",
       "    </tr>\n",
       "    <tr>\n",
       "      <th>50%</th>\n",
       "      <td>1.640795e+05</td>\n",
       "      <td>72985.500000</td>\n",
       "      <td>0.000000</td>\n",
       "      <td>23324.000000</td>\n",
       "      <td>16620.000000</td>\n",
       "      <td>7332.500000</td>\n",
       "      <td>8695.000000</td>\n",
       "      <td>1820.000000</td>\n",
       "      <td>4314.000000</td>\n",
       "      <td>7314.000000</td>\n",
       "      <td>...</td>\n",
       "      <td>0.000000</td>\n",
       "      <td>0.000000</td>\n",
       "      <td>0.000000</td>\n",
       "      <td>0.000000</td>\n",
       "      <td>0.000000</td>\n",
       "      <td>2.000000</td>\n",
       "      <td>0.000000</td>\n",
       "      <td>0.000000</td>\n",
       "      <td>0.000000</td>\n",
       "      <td>0.000000</td>\n",
       "    </tr>\n",
       "    <tr>\n",
       "      <th>75%</th>\n",
       "      <td>2.911385e+05</td>\n",
       "      <td>105635.500000</td>\n",
       "      <td>1.000000</td>\n",
       "      <td>31439.000000</td>\n",
       "      <td>23920.000000</td>\n",
       "      <td>14292.000000</td>\n",
       "      <td>13388.000000</td>\n",
       "      <td>3100.000000</td>\n",
       "      <td>6304.250000</td>\n",
       "      <td>19921.250000</td>\n",
       "      <td>...</td>\n",
       "      <td>1.000000</td>\n",
       "      <td>1.000000</td>\n",
       "      <td>0.000000</td>\n",
       "      <td>0.000000</td>\n",
       "      <td>0.000000</td>\n",
       "      <td>3.000000</td>\n",
       "      <td>0.000000</td>\n",
       "      <td>0.000000</td>\n",
       "      <td>0.000000</td>\n",
       "      <td>0.000000</td>\n",
       "    </tr>\n",
       "    <tr>\n",
       "      <th>max</th>\n",
       "      <td>1.181599e+07</td>\n",
       "      <td>827565.000000</td>\n",
       "      <td>2.000000</td>\n",
       "      <td>765864.000000</td>\n",
       "      <td>758326.000000</td>\n",
       "      <td>261566.000000</td>\n",
       "      <td>188208.000000</td>\n",
       "      <td>273769.000000</td>\n",
       "      <td>74800.000000</td>\n",
       "      <td>725296.000000</td>\n",
       "      <td>...</td>\n",
       "      <td>5.000000</td>\n",
       "      <td>3.000000</td>\n",
       "      <td>5.000000</td>\n",
       "      <td>5.000000</td>\n",
       "      <td>4.000000</td>\n",
       "      <td>10.000000</td>\n",
       "      <td>6.000000</td>\n",
       "      <td>3.000000</td>\n",
       "      <td>3.000000</td>\n",
       "      <td>5.000000</td>\n",
       "    </tr>\n",
       "  </tbody>\n",
       "</table>\n",
       "<p>8 rows × 45 columns</p>\n",
       "</div>"
      ],
      "text/plain": [
       "       Total Household Income  Total Food Expenditure  \\\n",
       "count            4.154400e+04            41544.000000   \n",
       "mean             2.475556e+05            85099.158194   \n",
       "std              2.868805e+05            51637.947682   \n",
       "min              1.128500e+04             2947.000000   \n",
       "25%              1.048950e+05            51017.250000   \n",
       "50%              1.640795e+05            72985.500000   \n",
       "75%              2.911385e+05           105635.500000   \n",
       "max              1.181599e+07           827565.000000   \n",
       "\n",
       "       Agricultural Household indicator  Bread and Cereals Expenditure  \\\n",
       "count                      41544.000000                   41544.000000   \n",
       "mean                           0.429858                   25133.723642   \n",
       "std                            0.676666                   13466.482984   \n",
       "min                            0.000000                       0.000000   \n",
       "25%                            0.000000                   16556.000000   \n",
       "50%                            0.000000                   23324.000000   \n",
       "75%                            1.000000                   31439.000000   \n",
       "max                            2.000000                  765864.000000   \n",
       "\n",
       "       Total Rice Expenditure  Meat Expenditure  \\\n",
       "count            41544.000000      41544.000000   \n",
       "mean             18195.825005      10540.072574   \n",
       "std              11727.224350      10497.727757   \n",
       "min                  0.000000          0.000000   \n",
       "25%              11020.000000       3353.750000   \n",
       "50%              16620.000000       7332.500000   \n",
       "75%              23920.000000      14292.000000   \n",
       "max             758326.000000     261566.000000   \n",
       "\n",
       "       Total Fish and  marine products Expenditure  Fruit Expenditure  \\\n",
       "count                                 41544.000000       41544.000000   \n",
       "mean                                  10529.318337        2550.474990   \n",
       "std                                    7812.201613        2969.752879   \n",
       "min                                       0.000000           0.000000   \n",
       "25%                                    5504.000000        1024.750000   \n",
       "50%                                    8695.000000        1820.000000   \n",
       "75%                                   13388.000000        3100.000000   \n",
       "max                                  188208.000000      273769.000000   \n",
       "\n",
       "       Vegetables Expenditure  Restaurant and hotels Expenditure  ...  \\\n",
       "count            41544.000000                       41544.000000  ...   \n",
       "mean              5006.918568                       15436.566075  ...   \n",
       "std               3300.175236                       23705.195929  ...   \n",
       "min                  0.000000                           0.000000  ...   \n",
       "25%               2873.000000                        1930.000000  ...   \n",
       "50%               4314.000000                        7314.000000  ...   \n",
       "75%               6304.250000                       19921.250000  ...   \n",
       "max              74800.000000                      725296.000000  ...   \n",
       "\n",
       "       Number of Refrigerator/Freezer  Number of Washing Machine  \\\n",
       "count                    41544.000000               41544.000000   \n",
       "mean                         0.394184                   0.319806   \n",
       "std                          0.537025                   0.478482   \n",
       "min                          0.000000                   0.000000   \n",
       "25%                          0.000000                   0.000000   \n",
       "50%                          0.000000                   0.000000   \n",
       "75%                          1.000000                   1.000000   \n",
       "max                          5.000000                   3.000000   \n",
       "\n",
       "       Number of Airconditioner  Number of Car, Jeep, Van  \\\n",
       "count              41544.000000              41544.000000   \n",
       "mean                   0.129814                  0.081215   \n",
       "std                    0.448673                  0.346786   \n",
       "min                    0.000000                  0.000000   \n",
       "25%                    0.000000                  0.000000   \n",
       "50%                    0.000000                  0.000000   \n",
       "75%                    0.000000                  0.000000   \n",
       "max                    5.000000                  5.000000   \n",
       "\n",
       "       Number of Landline/wireless telephones  Number of Cellular phone  \\\n",
       "count                            41544.000000              41544.000000   \n",
       "mean                                 0.060610                  1.905738   \n",
       "std                                  0.276732                  1.558130   \n",
       "min                                  0.000000                  0.000000   \n",
       "25%                                  0.000000                  1.000000   \n",
       "50%                                  0.000000                  2.000000   \n",
       "75%                                  0.000000                  3.000000   \n",
       "max                                  4.000000                 10.000000   \n",
       "\n",
       "       Number of Personal Computer  Number of Stove with Oven/Gas Range  \\\n",
       "count                 41544.000000                         41544.000000   \n",
       "mean                      0.315015                             0.135038   \n",
       "std                       0.739698                             0.354083   \n",
       "min                       0.000000                             0.000000   \n",
       "25%                       0.000000                             0.000000   \n",
       "50%                       0.000000                             0.000000   \n",
       "75%                       0.000000                             0.000000   \n",
       "max                       6.000000                             3.000000   \n",
       "\n",
       "       Number of Motorized Banca  Number of Motorcycle/Tricycle  \n",
       "count               41544.000000                   41544.000000  \n",
       "mean                    0.013119                       0.289885  \n",
       "std                     0.127171                       0.558408  \n",
       "min                     0.000000                       0.000000  \n",
       "25%                     0.000000                       0.000000  \n",
       "50%                     0.000000                       0.000000  \n",
       "75%                     0.000000                       0.000000  \n",
       "max                     3.000000                       5.000000  \n",
       "\n",
       "[8 rows x 45 columns]"
      ]
     },
     "execution_count": 4,
     "metadata": {},
     "output_type": "execute_result"
    }
   ],
   "source": [
    "df.describe()"
   ]
  },
  {
   "cell_type": "markdown",
   "id": "05781abc",
   "metadata": {},
   "source": [
    "# Milestone 1 - Amostra e Descrição\n",
    "\n"
   ]
  },
  {
   "cell_type": "markdown",
   "id": "aa6ba61c",
   "metadata": {},
   "source": [
    "1. Calcule o tamanho de amostra ideal, considerando que você deseja estimar a média de dinheiro gasto com saúde (Medical Care Expenditure) com um erro máximo de 500, e um nível de confiança de 95%."
   ]
  },
  {
   "cell_type": "code",
   "execution_count": 5,
   "id": "193db623",
   "metadata": {},
   "outputs": [
    {
     "name": "stdout",
     "output_type": "stream",
     "text": [
      "Tamanho da amostra: 11121\n"
     ]
    }
   ],
   "source": [
    "sigma = df['Medical Care Expenditure'].std()\n",
    "max_erro = 500\n",
    "confidence = 0.95\n",
    "meaningfulness = 1 - confidence\n",
    "z_alpha_2 = norm.ppf(confidence + meaningfulness / 2)\n",
    "\n",
    "n = (z_alpha_2 * sigma / max_erro)**2\n",
    "\n",
    "n = int(np.ceil(n))\n",
    "\n",
    "print(f'Tamanho da amostra: {n}')"
   ]
  },
  {
   "cell_type": "markdown",
   "id": "10d70edc",
   "metadata": {},
   "source": [
    "2. Obtenha uma amostra do dataset, considerando o tamanho da amostra que você calculou anteriormente e, em seguida, faça uma análise descritiva dos dados com, pelo menos, 10 variáveis quantitativas."
   ]
  },
  {
   "cell_type": "code",
   "execution_count": 6,
   "id": "b421fb8d",
   "metadata": {},
   "outputs": [
    {
     "data": {
      "text/html": [
       "<div>\n",
       "<style scoped>\n",
       "    .dataframe tbody tr th:only-of-type {\n",
       "        vertical-align: middle;\n",
       "    }\n",
       "\n",
       "    .dataframe tbody tr th {\n",
       "        vertical-align: top;\n",
       "    }\n",
       "\n",
       "    .dataframe thead th {\n",
       "        text-align: right;\n",
       "    }\n",
       "</style>\n",
       "<table border=\"1\" class=\"dataframe\">\n",
       "  <thead>\n",
       "    <tr style=\"text-align: right;\">\n",
       "      <th></th>\n",
       "      <th>Total Household Income</th>\n",
       "      <th>Region</th>\n",
       "      <th>Total Food Expenditure</th>\n",
       "      <th>Main Source of Income</th>\n",
       "      <th>Agricultural Household indicator</th>\n",
       "      <th>Bread and Cereals Expenditure</th>\n",
       "      <th>Total Rice Expenditure</th>\n",
       "      <th>Meat Expenditure</th>\n",
       "      <th>Total Fish and  marine products Expenditure</th>\n",
       "      <th>Fruit Expenditure</th>\n",
       "      <th>...</th>\n",
       "      <th>Number of Refrigerator/Freezer</th>\n",
       "      <th>Number of Washing Machine</th>\n",
       "      <th>Number of Airconditioner</th>\n",
       "      <th>Number of Car, Jeep, Van</th>\n",
       "      <th>Number of Landline/wireless telephones</th>\n",
       "      <th>Number of Cellular phone</th>\n",
       "      <th>Number of Personal Computer</th>\n",
       "      <th>Number of Stove with Oven/Gas Range</th>\n",
       "      <th>Number of Motorized Banca</th>\n",
       "      <th>Number of Motorcycle/Tricycle</th>\n",
       "    </tr>\n",
       "  </thead>\n",
       "  <tbody>\n",
       "    <tr>\n",
       "      <th>1849</th>\n",
       "      <td>162566</td>\n",
       "      <td>V - Bicol Region</td>\n",
       "      <td>85025</td>\n",
       "      <td>Enterpreneurial Activities</td>\n",
       "      <td>1</td>\n",
       "      <td>28108</td>\n",
       "      <td>22932</td>\n",
       "      <td>3614</td>\n",
       "      <td>10058</td>\n",
       "      <td>3750</td>\n",
       "      <td>...</td>\n",
       "      <td>0</td>\n",
       "      <td>0</td>\n",
       "      <td>0</td>\n",
       "      <td>0</td>\n",
       "      <td>0</td>\n",
       "      <td>3</td>\n",
       "      <td>0</td>\n",
       "      <td>0</td>\n",
       "      <td>0</td>\n",
       "      <td>0</td>\n",
       "    </tr>\n",
       "    <tr>\n",
       "      <th>29179</th>\n",
       "      <td>218765</td>\n",
       "      <td>IVA - CALABARZON</td>\n",
       "      <td>71775</td>\n",
       "      <td>Other sources of Income</td>\n",
       "      <td>0</td>\n",
       "      <td>30273</td>\n",
       "      <td>20091</td>\n",
       "      <td>7180</td>\n",
       "      <td>4092</td>\n",
       "      <td>1300</td>\n",
       "      <td>...</td>\n",
       "      <td>1</td>\n",
       "      <td>0</td>\n",
       "      <td>0</td>\n",
       "      <td>0</td>\n",
       "      <td>0</td>\n",
       "      <td>3</td>\n",
       "      <td>0</td>\n",
       "      <td>0</td>\n",
       "      <td>0</td>\n",
       "      <td>0</td>\n",
       "    </tr>\n",
       "    <tr>\n",
       "      <th>20513</th>\n",
       "      <td>551982</td>\n",
       "      <td>NCR</td>\n",
       "      <td>214203</td>\n",
       "      <td>Wage/Salaries</td>\n",
       "      <td>0</td>\n",
       "      <td>21228</td>\n",
       "      <td>12326</td>\n",
       "      <td>48055</td>\n",
       "      <td>17536</td>\n",
       "      <td>660</td>\n",
       "      <td>...</td>\n",
       "      <td>1</td>\n",
       "      <td>1</td>\n",
       "      <td>0</td>\n",
       "      <td>0</td>\n",
       "      <td>0</td>\n",
       "      <td>3</td>\n",
       "      <td>2</td>\n",
       "      <td>0</td>\n",
       "      <td>0</td>\n",
       "      <td>0</td>\n",
       "    </tr>\n",
       "    <tr>\n",
       "      <th>28910</th>\n",
       "      <td>443465</td>\n",
       "      <td>I - Ilocos Region</td>\n",
       "      <td>223936</td>\n",
       "      <td>Other sources of Income</td>\n",
       "      <td>0</td>\n",
       "      <td>66348</td>\n",
       "      <td>51000</td>\n",
       "      <td>36404</td>\n",
       "      <td>12411</td>\n",
       "      <td>2172</td>\n",
       "      <td>...</td>\n",
       "      <td>1</td>\n",
       "      <td>1</td>\n",
       "      <td>0</td>\n",
       "      <td>0</td>\n",
       "      <td>0</td>\n",
       "      <td>3</td>\n",
       "      <td>1</td>\n",
       "      <td>0</td>\n",
       "      <td>0</td>\n",
       "      <td>1</td>\n",
       "    </tr>\n",
       "    <tr>\n",
       "      <th>2162</th>\n",
       "      <td>144350</td>\n",
       "      <td>ARMM</td>\n",
       "      <td>80055</td>\n",
       "      <td>Enterpreneurial Activities</td>\n",
       "      <td>1</td>\n",
       "      <td>31586</td>\n",
       "      <td>24864</td>\n",
       "      <td>280</td>\n",
       "      <td>15975</td>\n",
       "      <td>2798</td>\n",
       "      <td>...</td>\n",
       "      <td>0</td>\n",
       "      <td>0</td>\n",
       "      <td>0</td>\n",
       "      <td>0</td>\n",
       "      <td>0</td>\n",
       "      <td>2</td>\n",
       "      <td>0</td>\n",
       "      <td>0</td>\n",
       "      <td>1</td>\n",
       "      <td>0</td>\n",
       "    </tr>\n",
       "  </tbody>\n",
       "</table>\n",
       "<p>5 rows × 60 columns</p>\n",
       "</div>"
      ],
      "text/plain": [
       "       Total Household Income             Region  Total Food Expenditure  \\\n",
       "1849                   162566   V - Bicol Region                   85025   \n",
       "29179                  218765   IVA - CALABARZON                   71775   \n",
       "20513                  551982                NCR                  214203   \n",
       "28910                  443465  I - Ilocos Region                  223936   \n",
       "2162                   144350               ARMM                   80055   \n",
       "\n",
       "            Main Source of Income  Agricultural Household indicator  \\\n",
       "1849   Enterpreneurial Activities                                 1   \n",
       "29179     Other sources of Income                                 0   \n",
       "20513               Wage/Salaries                                 0   \n",
       "28910     Other sources of Income                                 0   \n",
       "2162   Enterpreneurial Activities                                 1   \n",
       "\n",
       "       Bread and Cereals Expenditure  Total Rice Expenditure  \\\n",
       "1849                           28108                   22932   \n",
       "29179                          30273                   20091   \n",
       "20513                          21228                   12326   \n",
       "28910                          66348                   51000   \n",
       "2162                           31586                   24864   \n",
       "\n",
       "       Meat Expenditure  Total Fish and  marine products Expenditure  \\\n",
       "1849               3614                                        10058   \n",
       "29179              7180                                         4092   \n",
       "20513             48055                                        17536   \n",
       "28910             36404                                        12411   \n",
       "2162                280                                        15975   \n",
       "\n",
       "       Fruit Expenditure  ...  Number of Refrigerator/Freezer  \\\n",
       "1849                3750  ...                               0   \n",
       "29179               1300  ...                               1   \n",
       "20513                660  ...                               1   \n",
       "28910               2172  ...                               1   \n",
       "2162                2798  ...                               0   \n",
       "\n",
       "       Number of Washing Machine  Number of Airconditioner  \\\n",
       "1849                           0                         0   \n",
       "29179                          0                         0   \n",
       "20513                          1                         0   \n",
       "28910                          1                         0   \n",
       "2162                           0                         0   \n",
       "\n",
       "       Number of Car, Jeep, Van  Number of Landline/wireless telephones  \\\n",
       "1849                          0                                       0   \n",
       "29179                         0                                       0   \n",
       "20513                         0                                       0   \n",
       "28910                         0                                       0   \n",
       "2162                          0                                       0   \n",
       "\n",
       "       Number of Cellular phone  Number of Personal Computer  \\\n",
       "1849                          3                            0   \n",
       "29179                         3                            0   \n",
       "20513                         3                            2   \n",
       "28910                         3                            1   \n",
       "2162                          2                            0   \n",
       "\n",
       "       Number of Stove with Oven/Gas Range  Number of Motorized Banca  \\\n",
       "1849                                     0                          0   \n",
       "29179                                    0                          0   \n",
       "20513                                    0                          0   \n",
       "28910                                    0                          0   \n",
       "2162                                     0                          1   \n",
       "\n",
       "       Number of Motorcycle/Tricycle  \n",
       "1849                               0  \n",
       "29179                              0  \n",
       "20513                              0  \n",
       "28910                              1  \n",
       "2162                               0  \n",
       "\n",
       "[5 rows x 60 columns]"
      ]
     },
     "execution_count": 6,
     "metadata": {},
     "output_type": "execute_result"
    }
   ],
   "source": [
    "df_sample = df.sample(n = n, random_state = 101)\n",
    "\n",
    "df_sample.head()"
   ]
  },
  {
   "cell_type": "code",
   "execution_count": 7,
   "id": "e92a0f2a",
   "metadata": {},
   "outputs": [
    {
     "data": {
      "text/plain": [
       "Index(['Total Household Income', 'Total Food Expenditure',\n",
       "       'Agricultural Household indicator', 'Bread and Cereals Expenditure',\n",
       "       'Total Rice Expenditure', 'Meat Expenditure',\n",
       "       'Total Fish and  marine products Expenditure', 'Fruit Expenditure',\n",
       "       'Vegetables Expenditure', 'Restaurant and hotels Expenditure',\n",
       "       'Alcoholic Beverages Expenditure', 'Tobacco Expenditure',\n",
       "       'Clothing, Footwear and Other Wear Expenditure',\n",
       "       'Housing and water Expenditure', 'Imputed House Rental Value',\n",
       "       'Medical Care Expenditure', 'Transportation Expenditure',\n",
       "       'Communication Expenditure', 'Education Expenditure',\n",
       "       'Miscellaneous Goods and Services Expenditure',\n",
       "       'Special Occasions Expenditure', 'Crop Farming and Gardening expenses',\n",
       "       'Total Income from Entrepreneurial Acitivites', 'Household Head Age',\n",
       "       'Total Number of Family members',\n",
       "       'Members with age less than 5 year old',\n",
       "       'Members with age 5 - 17 years old',\n",
       "       'Total number of family members employed', 'House Floor Area',\n",
       "       'House Age', 'Number of bedrooms', 'Electricity',\n",
       "       'Number of Television', 'Number of CD/VCD/DVD',\n",
       "       'Number of Component/Stereo set', 'Number of Refrigerator/Freezer',\n",
       "       'Number of Washing Machine', 'Number of Airconditioner',\n",
       "       'Number of Car, Jeep, Van', 'Number of Landline/wireless telephones',\n",
       "       'Number of Cellular phone', 'Number of Personal Computer',\n",
       "       'Number of Stove with Oven/Gas Range', 'Number of Motorized Banca',\n",
       "       'Number of Motorcycle/Tricycle'],\n",
       "      dtype='object')"
      ]
     },
     "execution_count": 7,
     "metadata": {},
     "output_type": "execute_result"
    }
   ],
   "source": [
    "columns = df_sample.corr().columns\n",
    "\n",
    "columns"
   ]
  },
  {
   "cell_type": "code",
   "execution_count": 8,
   "id": "4750fba5",
   "metadata": {},
   "outputs": [
    {
     "data": {
      "text/plain": [
       "Index(['Total Household Income', 'Total Food Expenditure',\n",
       "       'Agricultural Household indicator', 'Bread and Cereals Expenditure',\n",
       "       'Total Rice Expenditure', 'Meat Expenditure',\n",
       "       'Total Fish and  marine products Expenditure', 'Fruit Expenditure',\n",
       "       'Vegetables Expenditure', 'Restaurant and hotels Expenditure'],\n",
       "      dtype='object')"
      ]
     },
     "execution_count": 8,
     "metadata": {},
     "output_type": "execute_result"
    }
   ],
   "source": [
    "variables = columns[:10]\n",
    "\n",
    "variables"
   ]
  },
  {
   "cell_type": "code",
   "execution_count": 9,
   "id": "1e5c5be4",
   "metadata": {},
   "outputs": [
    {
     "data": {
      "text/html": [
       "<div>\n",
       "<style scoped>\n",
       "    .dataframe tbody tr th:only-of-type {\n",
       "        vertical-align: middle;\n",
       "    }\n",
       "\n",
       "    .dataframe tbody tr th {\n",
       "        vertical-align: top;\n",
       "    }\n",
       "\n",
       "    .dataframe thead th {\n",
       "        text-align: right;\n",
       "    }\n",
       "</style>\n",
       "<table border=\"1\" class=\"dataframe\">\n",
       "  <thead>\n",
       "    <tr style=\"text-align: right;\">\n",
       "      <th></th>\n",
       "      <th>Total Household Income</th>\n",
       "      <th>Total Food Expenditure</th>\n",
       "      <th>Agricultural Household indicator</th>\n",
       "      <th>Bread and Cereals Expenditure</th>\n",
       "      <th>Total Rice Expenditure</th>\n",
       "      <th>Meat Expenditure</th>\n",
       "      <th>Total Fish and  marine products Expenditure</th>\n",
       "      <th>Fruit Expenditure</th>\n",
       "      <th>Vegetables Expenditure</th>\n",
       "      <th>Restaurant and hotels Expenditure</th>\n",
       "    </tr>\n",
       "  </thead>\n",
       "  <tbody>\n",
       "    <tr>\n",
       "      <th>1849</th>\n",
       "      <td>162566</td>\n",
       "      <td>85025</td>\n",
       "      <td>1</td>\n",
       "      <td>28108</td>\n",
       "      <td>22932</td>\n",
       "      <td>3614</td>\n",
       "      <td>10058</td>\n",
       "      <td>3750</td>\n",
       "      <td>4366</td>\n",
       "      <td>24490</td>\n",
       "    </tr>\n",
       "    <tr>\n",
       "      <th>29179</th>\n",
       "      <td>218765</td>\n",
       "      <td>71775</td>\n",
       "      <td>0</td>\n",
       "      <td>30273</td>\n",
       "      <td>20091</td>\n",
       "      <td>7180</td>\n",
       "      <td>4092</td>\n",
       "      <td>1300</td>\n",
       "      <td>2086</td>\n",
       "      <td>13660</td>\n",
       "    </tr>\n",
       "    <tr>\n",
       "      <th>20513</th>\n",
       "      <td>551982</td>\n",
       "      <td>214203</td>\n",
       "      <td>0</td>\n",
       "      <td>21228</td>\n",
       "      <td>12326</td>\n",
       "      <td>48055</td>\n",
       "      <td>17536</td>\n",
       "      <td>660</td>\n",
       "      <td>5140</td>\n",
       "      <td>93010</td>\n",
       "    </tr>\n",
       "    <tr>\n",
       "      <th>28910</th>\n",
       "      <td>443465</td>\n",
       "      <td>223936</td>\n",
       "      <td>0</td>\n",
       "      <td>66348</td>\n",
       "      <td>51000</td>\n",
       "      <td>36404</td>\n",
       "      <td>12411</td>\n",
       "      <td>2172</td>\n",
       "      <td>7555</td>\n",
       "      <td>47464</td>\n",
       "    </tr>\n",
       "    <tr>\n",
       "      <th>2162</th>\n",
       "      <td>144350</td>\n",
       "      <td>80055</td>\n",
       "      <td>1</td>\n",
       "      <td>31586</td>\n",
       "      <td>24864</td>\n",
       "      <td>280</td>\n",
       "      <td>15975</td>\n",
       "      <td>2798</td>\n",
       "      <td>9030</td>\n",
       "      <td>4660</td>\n",
       "    </tr>\n",
       "  </tbody>\n",
       "</table>\n",
       "</div>"
      ],
      "text/plain": [
       "       Total Household Income  Total Food Expenditure  \\\n",
       "1849                   162566                   85025   \n",
       "29179                  218765                   71775   \n",
       "20513                  551982                  214203   \n",
       "28910                  443465                  223936   \n",
       "2162                   144350                   80055   \n",
       "\n",
       "       Agricultural Household indicator  Bread and Cereals Expenditure  \\\n",
       "1849                                  1                          28108   \n",
       "29179                                 0                          30273   \n",
       "20513                                 0                          21228   \n",
       "28910                                 0                          66348   \n",
       "2162                                  1                          31586   \n",
       "\n",
       "       Total Rice Expenditure  Meat Expenditure  \\\n",
       "1849                    22932              3614   \n",
       "29179                   20091              7180   \n",
       "20513                   12326             48055   \n",
       "28910                   51000             36404   \n",
       "2162                    24864               280   \n",
       "\n",
       "       Total Fish and  marine products Expenditure  Fruit Expenditure  \\\n",
       "1849                                         10058               3750   \n",
       "29179                                         4092               1300   \n",
       "20513                                        17536                660   \n",
       "28910                                        12411               2172   \n",
       "2162                                         15975               2798   \n",
       "\n",
       "       Vegetables Expenditure  Restaurant and hotels Expenditure  \n",
       "1849                     4366                              24490  \n",
       "29179                    2086                              13660  \n",
       "20513                    5140                              93010  \n",
       "28910                    7555                              47464  \n",
       "2162                     9030                               4660  "
      ]
     },
     "execution_count": 9,
     "metadata": {},
     "output_type": "execute_result"
    }
   ],
   "source": [
    "df_simplified = df_sample[variables]\n",
    "\n",
    "df_simplified.head()"
   ]
  },
  {
   "cell_type": "code",
   "execution_count": 10,
   "id": "6b0a696b",
   "metadata": {},
   "outputs": [
    {
     "data": {
      "text/plain": [
       "array([1, 0, 2], dtype=int64)"
      ]
     },
     "execution_count": 10,
     "metadata": {},
     "output_type": "execute_result"
    }
   ],
   "source": [
    "df_simplified['Agricultural Household indicator'].unique()"
   ]
  },
  {
   "cell_type": "markdown",
   "id": "a58929eb",
   "metadata": {},
   "source": [
    "## Classificação das variáveis"
   ]
  },
  {
   "cell_type": "code",
   "execution_count": 11,
   "id": "76e808e0",
   "metadata": {},
   "outputs": [
    {
     "name": "stdout",
     "output_type": "stream",
     "text": [
      "Variáveis quantitativas contínuas: ['Total Household Income', 'Total Food Expenditure', 'Bread and Cereals Expenditure', 'Total Rice Expenditure', 'Meat Expenditure', 'Total Fish and  marine products Expenditure', 'Fruit Expenditure', 'Vegetables Expenditure', 'Restaurant and hotels Expenditure']\n",
      "Variáveis quantitativas discretas: ['Agricultural Household indicator']\n"
     ]
    }
   ],
   "source": [
    "continuous_quantitative = ['Total Household Income', 'Total Food Expenditure', 'Bread and Cereals Expenditure',\n",
    "                           'Total Rice Expenditure', 'Meat Expenditure', 'Total Fish and  marine products Expenditure',\n",
    "                           'Fruit Expenditure', 'Vegetables Expenditure', 'Restaurant and hotels Expenditure'\n",
    "                          ]\n",
    "discrete_quantitative = ['Agricultural Household indicator']\n",
    "\n",
    "print(f'Variáveis quantitativas contínuas: {continuous_quantitative}')\n",
    "print(f'Variáveis quantitativas discretas: {discrete_quantitative}')"
   ]
  },
  {
   "cell_type": "markdown",
   "id": "ded671dd",
   "metadata": {},
   "source": [
    "## Simetria das variáveis quantitativas"
   ]
  },
  {
   "cell_type": "code",
   "execution_count": 12,
   "id": "806386bc",
   "metadata": {},
   "outputs": [
    {
     "name": "stdout",
     "output_type": "stream",
     "text": [
      "Variável: Total Household Income\n",
      "Média: 248771.8727632407\n",
      "Mediana: 163360.0\n",
      "Moda: 119400\n",
      "Classificação: Assimétrica à Direita\n",
      "\n",
      "Variável: Total Food Expenditure\n",
      "Média: 85369.30959446092\n",
      "Mediana: 73157.0\n",
      "Moda: 47653\n",
      "Classificação: Assimétrica à Direita\n",
      "\n",
      "Variável: Bread and Cereals Expenditure\n",
      "Média: 25176.049635824118\n",
      "Mediana: 23377.0\n",
      "Moda: 0\n",
      "Classificação: Assimétrica à Direita\n",
      "\n",
      "Variável: Total Rice Expenditure\n",
      "Média: 18205.065551659023\n",
      "Mediana: 16559.0\n",
      "Moda: 0\n",
      "Classificação: Assimétrica à Direita\n",
      "\n",
      "Variável: Meat Expenditure\n",
      "Média: 10558.65659562989\n",
      "Mediana: 7290.0\n",
      "Moda: 0\n",
      "Classificação: Assimétrica à Direita\n",
      "\n",
      "Variável: Total Fish and  marine products Expenditure\n",
      "Média: 10464.498066720618\n",
      "Mediana: 8643.0\n",
      "Moda: 0\n",
      "Classificação: Assimétrica à Direita\n",
      "\n",
      "Variável: Fruit Expenditure\n",
      "Média: 2542.589065731499\n",
      "Mediana: 1835.0\n",
      "Moda: 810\n",
      "Classificação: Assimétrica à Direita\n",
      "\n",
      "Variável: Vegetables Expenditure\n",
      "Média: 4981.1935976980485\n",
      "Mediana: 4298.0\n",
      "Moda: 0\n",
      "Classificação: Assimétrica à Direita\n",
      "\n",
      "Variável: Restaurant and hotels Expenditure\n",
      "Média: 15662.865929322903\n",
      "Mediana: 7340.0\n",
      "Moda: 0\n",
      "Classificação: Assimétrica à Direita\n",
      "\n",
      "Variável: Agricultural Household indicator\n",
      "Média: 0.43215538171027784\n",
      "Mediana: 0.0\n",
      "Moda: 0\n",
      "Classificação: Assimétrica à Esquerda\n",
      "\n"
     ]
    }
   ],
   "source": [
    "quantitatives = []\n",
    "quantitatives.extend(continuous_quantitative)\n",
    "quantitatives.extend(discrete_quantitative)\n",
    "\n",
    "for variable in quantitatives:\n",
    "    average = df_simplified[variable].mean() \n",
    "    median = df_simplified[variable].median()\n",
    "    mode = df_simplified[variable].mode()\n",
    "    \n",
    "    if average == median and median == mode[0]:\n",
    "        classification = 'Simétrica'\n",
    "    elif mode[0] < median and median < average:\n",
    "        classification = 'Assimétrica à Direita'\n",
    "    else:\n",
    "        classification = 'Assimétrica à Esquerda'\n",
    "    \n",
    "    print(f'Variável: {variable}')\n",
    "    print(f'Média: {average}')\n",
    "    print(f'Mediana: {median}')\n",
    "    # Considerando casos em que a moda tem mais de um valor, pega-se o primeiro elemento\n",
    "    print(f'Moda: {mode[0]}')\n",
    "    print(f'Classificação: {classification}')\n",
    "    print()"
   ]
  },
  {
   "cell_type": "markdown",
   "id": "5d441c03",
   "metadata": {},
   "source": [
    "## Percentis"
   ]
  },
  {
   "cell_type": "code",
   "execution_count": 13,
   "id": "203d01c2",
   "metadata": {},
   "outputs": [
    {
     "name": "stdout",
     "output_type": "stream",
     "text": [
      "Variável: Total Household Income\n",
      "25.0%: 104895.00\n",
      "50.0%: 163360.00\n",
      "75.0%: 292496.00\n",
      "\n",
      "Variável: Total Food Expenditure\n",
      "25.0%: 50856.00\n",
      "50.0%: 73157.00\n",
      "75.0%: 105683.00\n",
      "\n",
      "Variável: Bread and Cereals Expenditure\n",
      "25.0%: 16512.00\n",
      "50.0%: 23377.00\n",
      "75.0%: 31358.00\n",
      "\n",
      "Variável: Total Rice Expenditure\n",
      "25.0%: 10990.00\n",
      "50.0%: 16559.00\n",
      "75.0%: 23840.00\n",
      "\n",
      "Variável: Meat Expenditure\n",
      "25.0%: 3324.00\n",
      "50.0%: 7290.00\n",
      "75.0%: 14420.00\n",
      "\n",
      "Variável: Total Fish and  marine products Expenditure\n",
      "25.0%: 5470.00\n",
      "50.0%: 8643.00\n",
      "75.0%: 13370.00\n",
      "\n",
      "Variável: Fruit Expenditure\n",
      "25.0%: 1010.00\n",
      "50.0%: 1835.00\n",
      "75.0%: 3115.00\n",
      "\n",
      "Variável: Vegetables Expenditure\n",
      "25.0%: 2850.00\n",
      "50.0%: 4298.00\n",
      "75.0%: 6252.00\n",
      "\n",
      "Variável: Restaurant and hotels Expenditure\n",
      "25.0%: 1900.00\n",
      "50.0%: 7340.00\n",
      "75.0%: 19960.00\n",
      "\n",
      "Variável: Agricultural Household indicator\n",
      "25.0%: 0.00\n",
      "50.0%: 0.00\n",
      "75.0%: 1.00\n",
      "\n"
     ]
    }
   ],
   "source": [
    "for variable in quantitatives:\n",
    "    quartis = df_simplified[variable].quantile([0.25, 0.5, 0.75])\n",
    "    \n",
    "    quartis = quartis.reset_index()\n",
    "\n",
    "    print(f'Variável: {variable}')\n",
    "    for row in quartis.itertuples():\n",
    "        print(f'{row.index * 100}%: {row._2:.2f}')\n",
    "    print()"
   ]
  },
  {
   "cell_type": "markdown",
   "id": "0731e8d9",
   "metadata": {},
   "source": [
    "# Milestone 2 - Inferência Estatística"
   ]
  },
  {
   "cell_type": "markdown",
   "id": "31a17bdb",
   "metadata": {},
   "source": [
    "1. Utilizando um nível de confiança de 95%, calcule o intervalo de confiança do dinheiro gasto com saúde e educação (colunas: Medical Care Expenditure e Education Expenditure)."
   ]
  },
  {
   "cell_type": "markdown",
   "id": "d477735f",
   "metadata": {},
   "source": [
    "## Saúde"
   ]
  },
  {
   "cell_type": "code",
   "execution_count": 14,
   "id": "c813bc3f",
   "metadata": {},
   "outputs": [],
   "source": [
    "sample_mean = df['Medical Care Expenditure'].mean()\n",
    "sigma = df['Medical Care Expenditure'].std()\n",
    "n = df['Medical Care Expenditure'].size\n",
    "confidence = 0.95\n",
    "meaningfulness = 1 - confidence"
   ]
  },
  {
   "cell_type": "code",
   "execution_count": 15,
   "id": "e9a82a6f",
   "metadata": {},
   "outputs": [
    {
     "data": {
      "text/plain": [
       "1.959963984540054"
      ]
     },
     "execution_count": 15,
     "metadata": {},
     "output_type": "execute_result"
    }
   ],
   "source": [
    "z_alpha_2 = norm.ppf(confidence + meaningfulness / 2)\n",
    "z_alpha_2"
   ]
  },
  {
   "cell_type": "code",
   "execution_count": 16,
   "id": "a1745fb4",
   "metadata": {},
   "outputs": [
    {
     "data": {
      "text/plain": [
       "258.68934506630364"
      ]
     },
     "execution_count": 16,
     "metadata": {},
     "output_type": "execute_result"
    }
   ],
   "source": [
    "error = z_alpha_2 * sigma / np.sqrt(n)\n",
    "error"
   ]
  },
  {
   "cell_type": "code",
   "execution_count": 17,
   "id": "41feb602",
   "metadata": {},
   "outputs": [
    {
     "name": "stdout",
     "output_type": "stream",
     "text": [
      "Intervalo de confiança da média do gasto com saúde: ($6901.54 , $7418.92)\n"
     ]
    }
   ],
   "source": [
    "print(f'Intervalo de confiança da média do gasto com saúde: (${(sample_mean - error):.2f} , ${(sample_mean + error):.2f})')"
   ]
  },
  {
   "cell_type": "markdown",
   "id": "51036157",
   "metadata": {},
   "source": [
    "## Educação"
   ]
  },
  {
   "cell_type": "code",
   "execution_count": 18,
   "id": "12bd216d",
   "metadata": {},
   "outputs": [],
   "source": [
    "sample_mean = df['Education Expenditure'].mean()\n",
    "sigma = df['Education Expenditure'].std()\n",
    "n = df['Education Expenditure'].size\n",
    "confidence = 0.95\n",
    "meaningfulness = 1 - confidence"
   ]
  },
  {
   "cell_type": "code",
   "execution_count": 19,
   "id": "39dcee46",
   "metadata": {},
   "outputs": [
    {
     "data": {
      "text/plain": [
       "1.959963984540054"
      ]
     },
     "execution_count": 19,
     "metadata": {},
     "output_type": "execute_result"
    }
   ],
   "source": [
    "z_alpha_2 = norm.ppf(confidence + meaningfulness / 2)\n",
    "z_alpha_2"
   ]
  },
  {
   "cell_type": "code",
   "execution_count": 20,
   "id": "86a6ecf2",
   "metadata": {},
   "outputs": [
    {
     "data": {
      "text/plain": [
       "204.0433038710168"
      ]
     },
     "execution_count": 20,
     "metadata": {},
     "output_type": "execute_result"
    }
   ],
   "source": [
    "error = z_alpha_2 * sigma / np.sqrt(n)\n",
    "error"
   ]
  },
  {
   "cell_type": "code",
   "execution_count": 21,
   "id": "d080f575",
   "metadata": {},
   "outputs": [
    {
     "name": "stdout",
     "output_type": "stream",
     "text": [
      "Intervalo de confiança da média do gasto com educação: ($7269.46 , $7677.54)\n"
     ]
    }
   ],
   "source": [
    "print(f'Intervalo de confiança da média do gasto com educação: (${(sample_mean - error):.2f} , ${(sample_mean + error):.2f})')"
   ]
  },
  {
   "cell_type": "markdown",
   "id": "20f55211",
   "metadata": {},
   "source": [
    "2. Calcule se há diferença de média de número total de membros da família pelo sexo do chefe de família (Household Head Sex e Total Number of Family members) com 95% de confiança."
   ]
  },
  {
   "cell_type": "code",
   "execution_count": 22,
   "id": "adc51577",
   "metadata": {},
   "outputs": [
    {
     "data": {
      "text/plain": [
       "array(['Female', 'Male'], dtype=object)"
      ]
     },
     "execution_count": 22,
     "metadata": {},
     "output_type": "execute_result"
    }
   ],
   "source": [
    "df['Household Head Sex'].unique()"
   ]
  },
  {
   "cell_type": "code",
   "execution_count": 23,
   "id": "622bdf92",
   "metadata": {},
   "outputs": [],
   "source": [
    "sample_female = df[df['Household Head Sex'] == 'Female']\n",
    "sample_male = df[df['Household Head Sex'] == 'Male']"
   ]
  },
  {
   "cell_type": "code",
   "execution_count": 24,
   "id": "bd5018d4",
   "metadata": {},
   "outputs": [
    {
     "data": {
      "text/html": [
       "<div>\n",
       "<style scoped>\n",
       "    .dataframe tbody tr th:only-of-type {\n",
       "        vertical-align: middle;\n",
       "    }\n",
       "\n",
       "    .dataframe tbody tr th {\n",
       "        vertical-align: top;\n",
       "    }\n",
       "\n",
       "    .dataframe thead th {\n",
       "        text-align: right;\n",
       "    }\n",
       "</style>\n",
       "<table border=\"1\" class=\"dataframe\">\n",
       "  <thead>\n",
       "    <tr style=\"text-align: right;\">\n",
       "      <th></th>\n",
       "      <th>Total Household Income</th>\n",
       "      <th>Region</th>\n",
       "      <th>Total Food Expenditure</th>\n",
       "      <th>Main Source of Income</th>\n",
       "      <th>Agricultural Household indicator</th>\n",
       "      <th>Bread and Cereals Expenditure</th>\n",
       "      <th>Total Rice Expenditure</th>\n",
       "      <th>Meat Expenditure</th>\n",
       "      <th>Total Fish and  marine products Expenditure</th>\n",
       "      <th>Fruit Expenditure</th>\n",
       "      <th>...</th>\n",
       "      <th>Number of Refrigerator/Freezer</th>\n",
       "      <th>Number of Washing Machine</th>\n",
       "      <th>Number of Airconditioner</th>\n",
       "      <th>Number of Car, Jeep, Van</th>\n",
       "      <th>Number of Landline/wireless telephones</th>\n",
       "      <th>Number of Cellular phone</th>\n",
       "      <th>Number of Personal Computer</th>\n",
       "      <th>Number of Stove with Oven/Gas Range</th>\n",
       "      <th>Number of Motorized Banca</th>\n",
       "      <th>Number of Motorcycle/Tricycle</th>\n",
       "    </tr>\n",
       "  </thead>\n",
       "  <tbody>\n",
       "    <tr>\n",
       "      <th>0</th>\n",
       "      <td>480332</td>\n",
       "      <td>CAR</td>\n",
       "      <td>117848</td>\n",
       "      <td>Wage/Salaries</td>\n",
       "      <td>0</td>\n",
       "      <td>42140</td>\n",
       "      <td>38300</td>\n",
       "      <td>24676</td>\n",
       "      <td>16806</td>\n",
       "      <td>3325</td>\n",
       "      <td>...</td>\n",
       "      <td>1</td>\n",
       "      <td>1</td>\n",
       "      <td>0</td>\n",
       "      <td>0</td>\n",
       "      <td>0</td>\n",
       "      <td>2</td>\n",
       "      <td>1</td>\n",
       "      <td>0</td>\n",
       "      <td>0</td>\n",
       "      <td>1</td>\n",
       "    </tr>\n",
       "    <tr>\n",
       "      <th>8</th>\n",
       "      <td>171152</td>\n",
       "      <td>CAR</td>\n",
       "      <td>67348</td>\n",
       "      <td>Other sources of Income</td>\n",
       "      <td>0</td>\n",
       "      <td>23117</td>\n",
       "      <td>15845</td>\n",
       "      <td>11464</td>\n",
       "      <td>6685</td>\n",
       "      <td>1370</td>\n",
       "      <td>...</td>\n",
       "      <td>0</td>\n",
       "      <td>0</td>\n",
       "      <td>0</td>\n",
       "      <td>0</td>\n",
       "      <td>0</td>\n",
       "      <td>2</td>\n",
       "      <td>0</td>\n",
       "      <td>0</td>\n",
       "      <td>0</td>\n",
       "      <td>0</td>\n",
       "    </tr>\n",
       "    <tr>\n",
       "      <th>15</th>\n",
       "      <td>171742</td>\n",
       "      <td>CAR</td>\n",
       "      <td>70892</td>\n",
       "      <td>Other sources of Income</td>\n",
       "      <td>0</td>\n",
       "      <td>30594</td>\n",
       "      <td>26788</td>\n",
       "      <td>10336</td>\n",
       "      <td>7900</td>\n",
       "      <td>1503</td>\n",
       "      <td>...</td>\n",
       "      <td>0</td>\n",
       "      <td>0</td>\n",
       "      <td>0</td>\n",
       "      <td>0</td>\n",
       "      <td>0</td>\n",
       "      <td>0</td>\n",
       "      <td>0</td>\n",
       "      <td>0</td>\n",
       "      <td>0</td>\n",
       "      <td>0</td>\n",
       "    </tr>\n",
       "    <tr>\n",
       "      <th>18</th>\n",
       "      <td>88170</td>\n",
       "      <td>CAR</td>\n",
       "      <td>64705</td>\n",
       "      <td>Enterpreneurial Activities</td>\n",
       "      <td>1</td>\n",
       "      <td>31984</td>\n",
       "      <td>28659</td>\n",
       "      <td>8048</td>\n",
       "      <td>7625</td>\n",
       "      <td>1625</td>\n",
       "      <td>...</td>\n",
       "      <td>0</td>\n",
       "      <td>0</td>\n",
       "      <td>0</td>\n",
       "      <td>0</td>\n",
       "      <td>0</td>\n",
       "      <td>1</td>\n",
       "      <td>0</td>\n",
       "      <td>0</td>\n",
       "      <td>0</td>\n",
       "      <td>0</td>\n",
       "    </tr>\n",
       "    <tr>\n",
       "      <th>28</th>\n",
       "      <td>87612</td>\n",
       "      <td>CAR</td>\n",
       "      <td>88484</td>\n",
       "      <td>Enterpreneurial Activities</td>\n",
       "      <td>0</td>\n",
       "      <td>41313</td>\n",
       "      <td>36563</td>\n",
       "      <td>15018</td>\n",
       "      <td>11071</td>\n",
       "      <td>2210</td>\n",
       "      <td>...</td>\n",
       "      <td>0</td>\n",
       "      <td>0</td>\n",
       "      <td>0</td>\n",
       "      <td>0</td>\n",
       "      <td>0</td>\n",
       "      <td>1</td>\n",
       "      <td>0</td>\n",
       "      <td>0</td>\n",
       "      <td>0</td>\n",
       "      <td>0</td>\n",
       "    </tr>\n",
       "  </tbody>\n",
       "</table>\n",
       "<p>5 rows × 60 columns</p>\n",
       "</div>"
      ],
      "text/plain": [
       "    Total Household Income Region  Total Food Expenditure  \\\n",
       "0                   480332    CAR                  117848   \n",
       "8                   171152    CAR                   67348   \n",
       "15                  171742    CAR                   70892   \n",
       "18                   88170    CAR                   64705   \n",
       "28                   87612    CAR                   88484   \n",
       "\n",
       "         Main Source of Income  Agricultural Household indicator  \\\n",
       "0                Wage/Salaries                                 0   \n",
       "8      Other sources of Income                                 0   \n",
       "15     Other sources of Income                                 0   \n",
       "18  Enterpreneurial Activities                                 1   \n",
       "28  Enterpreneurial Activities                                 0   \n",
       "\n",
       "    Bread and Cereals Expenditure  Total Rice Expenditure  Meat Expenditure  \\\n",
       "0                           42140                   38300             24676   \n",
       "8                           23117                   15845             11464   \n",
       "15                          30594                   26788             10336   \n",
       "18                          31984                   28659              8048   \n",
       "28                          41313                   36563             15018   \n",
       "\n",
       "    Total Fish and  marine products Expenditure  Fruit Expenditure  ...  \\\n",
       "0                                         16806               3325  ...   \n",
       "8                                          6685               1370  ...   \n",
       "15                                         7900               1503  ...   \n",
       "18                                         7625               1625  ...   \n",
       "28                                        11071               2210  ...   \n",
       "\n",
       "    Number of Refrigerator/Freezer  Number of Washing Machine  \\\n",
       "0                                1                          1   \n",
       "8                                0                          0   \n",
       "15                               0                          0   \n",
       "18                               0                          0   \n",
       "28                               0                          0   \n",
       "\n",
       "    Number of Airconditioner  Number of Car, Jeep, Van  \\\n",
       "0                          0                         0   \n",
       "8                          0                         0   \n",
       "15                         0                         0   \n",
       "18                         0                         0   \n",
       "28                         0                         0   \n",
       "\n",
       "    Number of Landline/wireless telephones  Number of Cellular phone  \\\n",
       "0                                        0                         2   \n",
       "8                                        0                         2   \n",
       "15                                       0                         0   \n",
       "18                                       0                         1   \n",
       "28                                       0                         1   \n",
       "\n",
       "    Number of Personal Computer  Number of Stove with Oven/Gas Range  \\\n",
       "0                             1                                    0   \n",
       "8                             0                                    0   \n",
       "15                            0                                    0   \n",
       "18                            0                                    0   \n",
       "28                            0                                    0   \n",
       "\n",
       "    Number of Motorized Banca  Number of Motorcycle/Tricycle  \n",
       "0                           0                              1  \n",
       "8                           0                              0  \n",
       "15                          0                              0  \n",
       "18                          0                              0  \n",
       "28                          0                              0  \n",
       "\n",
       "[5 rows x 60 columns]"
      ]
     },
     "execution_count": 24,
     "metadata": {},
     "output_type": "execute_result"
    }
   ],
   "source": [
    "sample_female.head()"
   ]
  },
  {
   "cell_type": "code",
   "execution_count": 25,
   "id": "e35d7689",
   "metadata": {},
   "outputs": [
    {
     "data": {
      "text/html": [
       "<div>\n",
       "<style scoped>\n",
       "    .dataframe tbody tr th:only-of-type {\n",
       "        vertical-align: middle;\n",
       "    }\n",
       "\n",
       "    .dataframe tbody tr th {\n",
       "        vertical-align: top;\n",
       "    }\n",
       "\n",
       "    .dataframe thead th {\n",
       "        text-align: right;\n",
       "    }\n",
       "</style>\n",
       "<table border=\"1\" class=\"dataframe\">\n",
       "  <thead>\n",
       "    <tr style=\"text-align: right;\">\n",
       "      <th></th>\n",
       "      <th>Total Household Income</th>\n",
       "      <th>Region</th>\n",
       "      <th>Total Food Expenditure</th>\n",
       "      <th>Main Source of Income</th>\n",
       "      <th>Agricultural Household indicator</th>\n",
       "      <th>Bread and Cereals Expenditure</th>\n",
       "      <th>Total Rice Expenditure</th>\n",
       "      <th>Meat Expenditure</th>\n",
       "      <th>Total Fish and  marine products Expenditure</th>\n",
       "      <th>Fruit Expenditure</th>\n",
       "      <th>...</th>\n",
       "      <th>Number of Refrigerator/Freezer</th>\n",
       "      <th>Number of Washing Machine</th>\n",
       "      <th>Number of Airconditioner</th>\n",
       "      <th>Number of Car, Jeep, Van</th>\n",
       "      <th>Number of Landline/wireless telephones</th>\n",
       "      <th>Number of Cellular phone</th>\n",
       "      <th>Number of Personal Computer</th>\n",
       "      <th>Number of Stove with Oven/Gas Range</th>\n",
       "      <th>Number of Motorized Banca</th>\n",
       "      <th>Number of Motorcycle/Tricycle</th>\n",
       "    </tr>\n",
       "  </thead>\n",
       "  <tbody>\n",
       "    <tr>\n",
       "      <th>1</th>\n",
       "      <td>198235</td>\n",
       "      <td>CAR</td>\n",
       "      <td>67766</td>\n",
       "      <td>Wage/Salaries</td>\n",
       "      <td>0</td>\n",
       "      <td>17329</td>\n",
       "      <td>13008</td>\n",
       "      <td>17434</td>\n",
       "      <td>11073</td>\n",
       "      <td>2035</td>\n",
       "      <td>...</td>\n",
       "      <td>0</td>\n",
       "      <td>1</td>\n",
       "      <td>0</td>\n",
       "      <td>0</td>\n",
       "      <td>0</td>\n",
       "      <td>3</td>\n",
       "      <td>1</td>\n",
       "      <td>0</td>\n",
       "      <td>0</td>\n",
       "      <td>2</td>\n",
       "    </tr>\n",
       "    <tr>\n",
       "      <th>2</th>\n",
       "      <td>82785</td>\n",
       "      <td>CAR</td>\n",
       "      <td>61609</td>\n",
       "      <td>Wage/Salaries</td>\n",
       "      <td>1</td>\n",
       "      <td>34182</td>\n",
       "      <td>32001</td>\n",
       "      <td>7783</td>\n",
       "      <td>2590</td>\n",
       "      <td>1730</td>\n",
       "      <td>...</td>\n",
       "      <td>0</td>\n",
       "      <td>0</td>\n",
       "      <td>0</td>\n",
       "      <td>0</td>\n",
       "      <td>0</td>\n",
       "      <td>0</td>\n",
       "      <td>0</td>\n",
       "      <td>0</td>\n",
       "      <td>0</td>\n",
       "      <td>0</td>\n",
       "    </tr>\n",
       "    <tr>\n",
       "      <th>3</th>\n",
       "      <td>107589</td>\n",
       "      <td>CAR</td>\n",
       "      <td>78189</td>\n",
       "      <td>Wage/Salaries</td>\n",
       "      <td>0</td>\n",
       "      <td>34030</td>\n",
       "      <td>28659</td>\n",
       "      <td>10914</td>\n",
       "      <td>10812</td>\n",
       "      <td>690</td>\n",
       "      <td>...</td>\n",
       "      <td>0</td>\n",
       "      <td>0</td>\n",
       "      <td>0</td>\n",
       "      <td>0</td>\n",
       "      <td>0</td>\n",
       "      <td>1</td>\n",
       "      <td>0</td>\n",
       "      <td>0</td>\n",
       "      <td>0</td>\n",
       "      <td>0</td>\n",
       "    </tr>\n",
       "    <tr>\n",
       "      <th>4</th>\n",
       "      <td>189322</td>\n",
       "      <td>CAR</td>\n",
       "      <td>94625</td>\n",
       "      <td>Wage/Salaries</td>\n",
       "      <td>0</td>\n",
       "      <td>34820</td>\n",
       "      <td>30167</td>\n",
       "      <td>18391</td>\n",
       "      <td>11309</td>\n",
       "      <td>1395</td>\n",
       "      <td>...</td>\n",
       "      <td>1</td>\n",
       "      <td>0</td>\n",
       "      <td>0</td>\n",
       "      <td>0</td>\n",
       "      <td>0</td>\n",
       "      <td>3</td>\n",
       "      <td>0</td>\n",
       "      <td>0</td>\n",
       "      <td>0</td>\n",
       "      <td>1</td>\n",
       "    </tr>\n",
       "    <tr>\n",
       "      <th>5</th>\n",
       "      <td>152883</td>\n",
       "      <td>CAR</td>\n",
       "      <td>73326</td>\n",
       "      <td>Wage/Salaries</td>\n",
       "      <td>0</td>\n",
       "      <td>29065</td>\n",
       "      <td>25190</td>\n",
       "      <td>15336</td>\n",
       "      <td>8572</td>\n",
       "      <td>2614</td>\n",
       "      <td>...</td>\n",
       "      <td>0</td>\n",
       "      <td>1</td>\n",
       "      <td>0</td>\n",
       "      <td>0</td>\n",
       "      <td>0</td>\n",
       "      <td>4</td>\n",
       "      <td>0</td>\n",
       "      <td>0</td>\n",
       "      <td>0</td>\n",
       "      <td>1</td>\n",
       "    </tr>\n",
       "  </tbody>\n",
       "</table>\n",
       "<p>5 rows × 60 columns</p>\n",
       "</div>"
      ],
      "text/plain": [
       "   Total Household Income Region  Total Food Expenditure  \\\n",
       "1                  198235    CAR                   67766   \n",
       "2                   82785    CAR                   61609   \n",
       "3                  107589    CAR                   78189   \n",
       "4                  189322    CAR                   94625   \n",
       "5                  152883    CAR                   73326   \n",
       "\n",
       "  Main Source of Income  Agricultural Household indicator  \\\n",
       "1         Wage/Salaries                                 0   \n",
       "2         Wage/Salaries                                 1   \n",
       "3         Wage/Salaries                                 0   \n",
       "4         Wage/Salaries                                 0   \n",
       "5         Wage/Salaries                                 0   \n",
       "\n",
       "   Bread and Cereals Expenditure  Total Rice Expenditure  Meat Expenditure  \\\n",
       "1                          17329                   13008             17434   \n",
       "2                          34182                   32001              7783   \n",
       "3                          34030                   28659             10914   \n",
       "4                          34820                   30167             18391   \n",
       "5                          29065                   25190             15336   \n",
       "\n",
       "   Total Fish and  marine products Expenditure  Fruit Expenditure  ...  \\\n",
       "1                                        11073               2035  ...   \n",
       "2                                         2590               1730  ...   \n",
       "3                                        10812                690  ...   \n",
       "4                                        11309               1395  ...   \n",
       "5                                         8572               2614  ...   \n",
       "\n",
       "   Number of Refrigerator/Freezer  Number of Washing Machine  \\\n",
       "1                               0                          1   \n",
       "2                               0                          0   \n",
       "3                               0                          0   \n",
       "4                               1                          0   \n",
       "5                               0                          1   \n",
       "\n",
       "   Number of Airconditioner  Number of Car, Jeep, Van  \\\n",
       "1                         0                         0   \n",
       "2                         0                         0   \n",
       "3                         0                         0   \n",
       "4                         0                         0   \n",
       "5                         0                         0   \n",
       "\n",
       "   Number of Landline/wireless telephones  Number of Cellular phone  \\\n",
       "1                                       0                         3   \n",
       "2                                       0                         0   \n",
       "3                                       0                         1   \n",
       "4                                       0                         3   \n",
       "5                                       0                         4   \n",
       "\n",
       "   Number of Personal Computer  Number of Stove with Oven/Gas Range  \\\n",
       "1                            1                                    0   \n",
       "2                            0                                    0   \n",
       "3                            0                                    0   \n",
       "4                            0                                    0   \n",
       "5                            0                                    0   \n",
       "\n",
       "   Number of Motorized Banca  Number of Motorcycle/Tricycle  \n",
       "1                          0                              2  \n",
       "2                          0                              0  \n",
       "3                          0                              0  \n",
       "4                          0                              1  \n",
       "5                          0                              1  \n",
       "\n",
       "[5 rows x 60 columns]"
      ]
     },
     "execution_count": 25,
     "metadata": {},
     "output_type": "execute_result"
    }
   ],
   "source": [
    "sample_male.head()"
   ]
  },
  {
   "cell_type": "code",
   "execution_count": 26,
   "id": "3bbb10b8",
   "metadata": {},
   "outputs": [],
   "source": [
    "n1 = len(sample_female)\n",
    "n2 = len(sample_male)\n",
    "confidence = 0.95\n",
    "meaningfulness = 1 - confidence\n",
    "mean_female = sample_female['Total Number of Family members'].mean()\n",
    "sigma_female = sample_female['Total Number of Family members'].std()\n",
    "mean_male = sample_male['Total Number of Family members'].mean()\n",
    "sigma_male = sample_male['Total Number of Family members'].std()\n",
    "gl = n1 + n2 - 2\n",
    "D_0 = 0"
   ]
  },
  {
   "cell_type": "code",
   "execution_count": 27,
   "id": "59c4345f",
   "metadata": {},
   "outputs": [
    {
     "data": {
      "text/plain": [
       "1.6448536269514722"
      ]
     },
     "execution_count": 27,
     "metadata": {},
     "output_type": "execute_result"
    }
   ],
   "source": [
    "z_alpha = norm.ppf(confidence)\n",
    "\n",
    "z_alpha"
   ]
  },
  {
   "cell_type": "code",
   "execution_count": 28,
   "id": "a7318287",
   "metadata": {},
   "outputs": [
    {
     "data": {
      "text/plain": [
       "-0.1617784854446731"
      ]
     },
     "execution_count": 28,
     "metadata": {},
     "output_type": "execute_result"
    }
   ],
   "source": [
    "numerator = (sigma_female - sigma_male) - D_0\n",
    "\n",
    "denominator = np.sqrt((sigma_female ** 2 / n1) + (sigma_male ** 2 / n2))\n",
    "\n",
    "z = numerator / denominator\n",
    "\n",
    "z"
   ]
  },
  {
   "cell_type": "code",
   "execution_count": 29,
   "id": "993df1d7",
   "metadata": {},
   "outputs": [
    {
     "data": {
      "text/plain": [
       "0.5642598520150754"
      ]
     },
     "execution_count": 29,
     "metadata": {},
     "output_type": "execute_result"
    }
   ],
   "source": [
    "p_value = norm.sf(z)\n",
    "\n",
    "p_value"
   ]
  },
  {
   "cell_type": "code",
   "execution_count": 30,
   "id": "3afd0686",
   "metadata": {},
   "outputs": [
    {
     "name": "stdout",
     "output_type": "stream",
     "text": [
      "Aceita-se H0. Há diferença de média de número total de membros da família pelo sexo do chefe de família.\n"
     ]
    }
   ],
   "source": [
    "if p_value <= meaningfulness:\n",
    "    print('Rejeita-se H0. Não há diferença de média de número total de membros da família pelo sexo do chefe de família.')\n",
    "else:\n",
    "    print('Aceita-se H0. Há diferença de média de número total de membros da família pelo sexo do chefe de família.')"
   ]
  },
  {
   "cell_type": "markdown",
   "id": "60f9b745",
   "metadata": {},
   "source": [
    "3. Verifique se há diferença de média total de renda da família (Total Household Income) de acordo com a fonte salarial (Main Source of Income).\n",
    "\n",
    "Considere “Enteroreneurial activities” e “other sources of income” como \"outros\"."
   ]
  },
  {
   "cell_type": "code",
   "execution_count": 31,
   "id": "18b59cf3",
   "metadata": {},
   "outputs": [
    {
     "data": {
      "text/plain": [
       "array(['Wage/Salaries', 'Other sources of Income',\n",
       "       'Enterpreneurial Activities'], dtype=object)"
      ]
     },
     "execution_count": 31,
     "metadata": {},
     "output_type": "execute_result"
    }
   ],
   "source": [
    "df['Main Source of Income'].unique()"
   ]
  },
  {
   "cell_type": "code",
   "execution_count": 32,
   "id": "0a0786a3",
   "metadata": {},
   "outputs": [
    {
     "data": {
      "text/html": [
       "<div>\n",
       "<style scoped>\n",
       "    .dataframe tbody tr th:only-of-type {\n",
       "        vertical-align: middle;\n",
       "    }\n",
       "\n",
       "    .dataframe tbody tr th {\n",
       "        vertical-align: top;\n",
       "    }\n",
       "\n",
       "    .dataframe thead th {\n",
       "        text-align: right;\n",
       "    }\n",
       "</style>\n",
       "<table border=\"1\" class=\"dataframe\">\n",
       "  <thead>\n",
       "    <tr style=\"text-align: right;\">\n",
       "      <th></th>\n",
       "      <th>Total Household Income</th>\n",
       "      <th>Region</th>\n",
       "      <th>Total Food Expenditure</th>\n",
       "      <th>Main Source of Income</th>\n",
       "      <th>Agricultural Household indicator</th>\n",
       "      <th>Bread and Cereals Expenditure</th>\n",
       "      <th>Total Rice Expenditure</th>\n",
       "      <th>Meat Expenditure</th>\n",
       "      <th>Total Fish and  marine products Expenditure</th>\n",
       "      <th>Fruit Expenditure</th>\n",
       "      <th>...</th>\n",
       "      <th>Number of Refrigerator/Freezer</th>\n",
       "      <th>Number of Washing Machine</th>\n",
       "      <th>Number of Airconditioner</th>\n",
       "      <th>Number of Car, Jeep, Van</th>\n",
       "      <th>Number of Landline/wireless telephones</th>\n",
       "      <th>Number of Cellular phone</th>\n",
       "      <th>Number of Personal Computer</th>\n",
       "      <th>Number of Stove with Oven/Gas Range</th>\n",
       "      <th>Number of Motorized Banca</th>\n",
       "      <th>Number of Motorcycle/Tricycle</th>\n",
       "    </tr>\n",
       "  </thead>\n",
       "  <tbody>\n",
       "    <tr>\n",
       "      <th>0</th>\n",
       "      <td>480332</td>\n",
       "      <td>CAR</td>\n",
       "      <td>117848</td>\n",
       "      <td>Wage/Salaries</td>\n",
       "      <td>0</td>\n",
       "      <td>42140</td>\n",
       "      <td>38300</td>\n",
       "      <td>24676</td>\n",
       "      <td>16806</td>\n",
       "      <td>3325</td>\n",
       "      <td>...</td>\n",
       "      <td>1</td>\n",
       "      <td>1</td>\n",
       "      <td>0</td>\n",
       "      <td>0</td>\n",
       "      <td>0</td>\n",
       "      <td>2</td>\n",
       "      <td>1</td>\n",
       "      <td>0</td>\n",
       "      <td>0</td>\n",
       "      <td>1</td>\n",
       "    </tr>\n",
       "    <tr>\n",
       "      <th>1</th>\n",
       "      <td>198235</td>\n",
       "      <td>CAR</td>\n",
       "      <td>67766</td>\n",
       "      <td>Wage/Salaries</td>\n",
       "      <td>0</td>\n",
       "      <td>17329</td>\n",
       "      <td>13008</td>\n",
       "      <td>17434</td>\n",
       "      <td>11073</td>\n",
       "      <td>2035</td>\n",
       "      <td>...</td>\n",
       "      <td>0</td>\n",
       "      <td>1</td>\n",
       "      <td>0</td>\n",
       "      <td>0</td>\n",
       "      <td>0</td>\n",
       "      <td>3</td>\n",
       "      <td>1</td>\n",
       "      <td>0</td>\n",
       "      <td>0</td>\n",
       "      <td>2</td>\n",
       "    </tr>\n",
       "    <tr>\n",
       "      <th>2</th>\n",
       "      <td>82785</td>\n",
       "      <td>CAR</td>\n",
       "      <td>61609</td>\n",
       "      <td>Wage/Salaries</td>\n",
       "      <td>1</td>\n",
       "      <td>34182</td>\n",
       "      <td>32001</td>\n",
       "      <td>7783</td>\n",
       "      <td>2590</td>\n",
       "      <td>1730</td>\n",
       "      <td>...</td>\n",
       "      <td>0</td>\n",
       "      <td>0</td>\n",
       "      <td>0</td>\n",
       "      <td>0</td>\n",
       "      <td>0</td>\n",
       "      <td>0</td>\n",
       "      <td>0</td>\n",
       "      <td>0</td>\n",
       "      <td>0</td>\n",
       "      <td>0</td>\n",
       "    </tr>\n",
       "    <tr>\n",
       "      <th>3</th>\n",
       "      <td>107589</td>\n",
       "      <td>CAR</td>\n",
       "      <td>78189</td>\n",
       "      <td>Wage/Salaries</td>\n",
       "      <td>0</td>\n",
       "      <td>34030</td>\n",
       "      <td>28659</td>\n",
       "      <td>10914</td>\n",
       "      <td>10812</td>\n",
       "      <td>690</td>\n",
       "      <td>...</td>\n",
       "      <td>0</td>\n",
       "      <td>0</td>\n",
       "      <td>0</td>\n",
       "      <td>0</td>\n",
       "      <td>0</td>\n",
       "      <td>1</td>\n",
       "      <td>0</td>\n",
       "      <td>0</td>\n",
       "      <td>0</td>\n",
       "      <td>0</td>\n",
       "    </tr>\n",
       "    <tr>\n",
       "      <th>4</th>\n",
       "      <td>189322</td>\n",
       "      <td>CAR</td>\n",
       "      <td>94625</td>\n",
       "      <td>Wage/Salaries</td>\n",
       "      <td>0</td>\n",
       "      <td>34820</td>\n",
       "      <td>30167</td>\n",
       "      <td>18391</td>\n",
       "      <td>11309</td>\n",
       "      <td>1395</td>\n",
       "      <td>...</td>\n",
       "      <td>1</td>\n",
       "      <td>0</td>\n",
       "      <td>0</td>\n",
       "      <td>0</td>\n",
       "      <td>0</td>\n",
       "      <td>3</td>\n",
       "      <td>0</td>\n",
       "      <td>0</td>\n",
       "      <td>0</td>\n",
       "      <td>1</td>\n",
       "    </tr>\n",
       "  </tbody>\n",
       "</table>\n",
       "<p>5 rows × 60 columns</p>\n",
       "</div>"
      ],
      "text/plain": [
       "   Total Household Income Region  Total Food Expenditure  \\\n",
       "0                  480332    CAR                  117848   \n",
       "1                  198235    CAR                   67766   \n",
       "2                   82785    CAR                   61609   \n",
       "3                  107589    CAR                   78189   \n",
       "4                  189322    CAR                   94625   \n",
       "\n",
       "  Main Source of Income  Agricultural Household indicator  \\\n",
       "0         Wage/Salaries                                 0   \n",
       "1         Wage/Salaries                                 0   \n",
       "2         Wage/Salaries                                 1   \n",
       "3         Wage/Salaries                                 0   \n",
       "4         Wage/Salaries                                 0   \n",
       "\n",
       "   Bread and Cereals Expenditure  Total Rice Expenditure  Meat Expenditure  \\\n",
       "0                          42140                   38300             24676   \n",
       "1                          17329                   13008             17434   \n",
       "2                          34182                   32001              7783   \n",
       "3                          34030                   28659             10914   \n",
       "4                          34820                   30167             18391   \n",
       "\n",
       "   Total Fish and  marine products Expenditure  Fruit Expenditure  ...  \\\n",
       "0                                        16806               3325  ...   \n",
       "1                                        11073               2035  ...   \n",
       "2                                         2590               1730  ...   \n",
       "3                                        10812                690  ...   \n",
       "4                                        11309               1395  ...   \n",
       "\n",
       "   Number of Refrigerator/Freezer  Number of Washing Machine  \\\n",
       "0                               1                          1   \n",
       "1                               0                          1   \n",
       "2                               0                          0   \n",
       "3                               0                          0   \n",
       "4                               1                          0   \n",
       "\n",
       "   Number of Airconditioner  Number of Car, Jeep, Van  \\\n",
       "0                         0                         0   \n",
       "1                         0                         0   \n",
       "2                         0                         0   \n",
       "3                         0                         0   \n",
       "4                         0                         0   \n",
       "\n",
       "   Number of Landline/wireless telephones  Number of Cellular phone  \\\n",
       "0                                       0                         2   \n",
       "1                                       0                         3   \n",
       "2                                       0                         0   \n",
       "3                                       0                         1   \n",
       "4                                       0                         3   \n",
       "\n",
       "   Number of Personal Computer  Number of Stove with Oven/Gas Range  \\\n",
       "0                            1                                    0   \n",
       "1                            1                                    0   \n",
       "2                            0                                    0   \n",
       "3                            0                                    0   \n",
       "4                            0                                    0   \n",
       "\n",
       "   Number of Motorized Banca  Number of Motorcycle/Tricycle  \n",
       "0                          0                              1  \n",
       "1                          0                              2  \n",
       "2                          0                              0  \n",
       "3                          0                              0  \n",
       "4                          0                              1  \n",
       "\n",
       "[5 rows x 60 columns]"
      ]
     },
     "execution_count": 32,
     "metadata": {},
     "output_type": "execute_result"
    }
   ],
   "source": [
    "sample_1 = df[df['Main Source of Income'] == 'Wage/Salaries']\n",
    "\n",
    "sample_1.head()"
   ]
  },
  {
   "cell_type": "code",
   "execution_count": 33,
   "id": "94900e22",
   "metadata": {},
   "outputs": [
    {
     "data": {
      "text/html": [
       "<div>\n",
       "<style scoped>\n",
       "    .dataframe tbody tr th:only-of-type {\n",
       "        vertical-align: middle;\n",
       "    }\n",
       "\n",
       "    .dataframe tbody tr th {\n",
       "        vertical-align: top;\n",
       "    }\n",
       "\n",
       "    .dataframe thead th {\n",
       "        text-align: right;\n",
       "    }\n",
       "</style>\n",
       "<table border=\"1\" class=\"dataframe\">\n",
       "  <thead>\n",
       "    <tr style=\"text-align: right;\">\n",
       "      <th></th>\n",
       "      <th>Total Household Income</th>\n",
       "      <th>Region</th>\n",
       "      <th>Total Food Expenditure</th>\n",
       "      <th>Main Source of Income</th>\n",
       "      <th>Agricultural Household indicator</th>\n",
       "      <th>Bread and Cereals Expenditure</th>\n",
       "      <th>Total Rice Expenditure</th>\n",
       "      <th>Meat Expenditure</th>\n",
       "      <th>Total Fish and  marine products Expenditure</th>\n",
       "      <th>Fruit Expenditure</th>\n",
       "      <th>...</th>\n",
       "      <th>Number of Refrigerator/Freezer</th>\n",
       "      <th>Number of Washing Machine</th>\n",
       "      <th>Number of Airconditioner</th>\n",
       "      <th>Number of Car, Jeep, Van</th>\n",
       "      <th>Number of Landline/wireless telephones</th>\n",
       "      <th>Number of Cellular phone</th>\n",
       "      <th>Number of Personal Computer</th>\n",
       "      <th>Number of Stove with Oven/Gas Range</th>\n",
       "      <th>Number of Motorized Banca</th>\n",
       "      <th>Number of Motorcycle/Tricycle</th>\n",
       "    </tr>\n",
       "  </thead>\n",
       "  <tbody>\n",
       "    <tr>\n",
       "      <th>7</th>\n",
       "      <td>134961</td>\n",
       "      <td>CAR</td>\n",
       "      <td>95644</td>\n",
       "      <td>Other sources of Income</td>\n",
       "      <td>1</td>\n",
       "      <td>37168</td>\n",
       "      <td>28156</td>\n",
       "      <td>14640</td>\n",
       "      <td>15896</td>\n",
       "      <td>3365</td>\n",
       "      <td>...</td>\n",
       "      <td>0</td>\n",
       "      <td>1</td>\n",
       "      <td>0</td>\n",
       "      <td>0</td>\n",
       "      <td>0</td>\n",
       "      <td>2</td>\n",
       "      <td>0</td>\n",
       "      <td>0</td>\n",
       "      <td>0</td>\n",
       "      <td>1</td>\n",
       "    </tr>\n",
       "    <tr>\n",
       "      <th>8</th>\n",
       "      <td>171152</td>\n",
       "      <td>CAR</td>\n",
       "      <td>67348</td>\n",
       "      <td>Other sources of Income</td>\n",
       "      <td>0</td>\n",
       "      <td>23117</td>\n",
       "      <td>15845</td>\n",
       "      <td>11464</td>\n",
       "      <td>6685</td>\n",
       "      <td>1370</td>\n",
       "      <td>...</td>\n",
       "      <td>0</td>\n",
       "      <td>0</td>\n",
       "      <td>0</td>\n",
       "      <td>0</td>\n",
       "      <td>0</td>\n",
       "      <td>2</td>\n",
       "      <td>0</td>\n",
       "      <td>0</td>\n",
       "      <td>0</td>\n",
       "      <td>0</td>\n",
       "    </tr>\n",
       "    <tr>\n",
       "      <th>9</th>\n",
       "      <td>625753</td>\n",
       "      <td>CAR</td>\n",
       "      <td>158721</td>\n",
       "      <td>Enterpreneurial Activities</td>\n",
       "      <td>0</td>\n",
       "      <td>56003</td>\n",
       "      <td>43239</td>\n",
       "      <td>26488</td>\n",
       "      <td>25678</td>\n",
       "      <td>3880</td>\n",
       "      <td>...</td>\n",
       "      <td>1</td>\n",
       "      <td>0</td>\n",
       "      <td>0</td>\n",
       "      <td>1</td>\n",
       "      <td>0</td>\n",
       "      <td>4</td>\n",
       "      <td>1</td>\n",
       "      <td>0</td>\n",
       "      <td>0</td>\n",
       "      <td>0</td>\n",
       "    </tr>\n",
       "    <tr>\n",
       "      <th>10</th>\n",
       "      <td>147005</td>\n",
       "      <td>CAR</td>\n",
       "      <td>79530</td>\n",
       "      <td>Enterpreneurial Activities</td>\n",
       "      <td>1</td>\n",
       "      <td>36588</td>\n",
       "      <td>30167</td>\n",
       "      <td>11174</td>\n",
       "      <td>7674</td>\n",
       "      <td>1709</td>\n",
       "      <td>...</td>\n",
       "      <td>1</td>\n",
       "      <td>0</td>\n",
       "      <td>0</td>\n",
       "      <td>0</td>\n",
       "      <td>0</td>\n",
       "      <td>1</td>\n",
       "      <td>0</td>\n",
       "      <td>0</td>\n",
       "      <td>0</td>\n",
       "      <td>1</td>\n",
       "    </tr>\n",
       "    <tr>\n",
       "      <th>12</th>\n",
       "      <td>101111</td>\n",
       "      <td>CAR</td>\n",
       "      <td>88523</td>\n",
       "      <td>Enterpreneurial Activities</td>\n",
       "      <td>1</td>\n",
       "      <td>40531</td>\n",
       "      <td>36200</td>\n",
       "      <td>14322</td>\n",
       "      <td>8344</td>\n",
       "      <td>2200</td>\n",
       "      <td>...</td>\n",
       "      <td>0</td>\n",
       "      <td>0</td>\n",
       "      <td>0</td>\n",
       "      <td>0</td>\n",
       "      <td>0</td>\n",
       "      <td>1</td>\n",
       "      <td>0</td>\n",
       "      <td>0</td>\n",
       "      <td>0</td>\n",
       "      <td>0</td>\n",
       "    </tr>\n",
       "  </tbody>\n",
       "</table>\n",
       "<p>5 rows × 60 columns</p>\n",
       "</div>"
      ],
      "text/plain": [
       "    Total Household Income Region  Total Food Expenditure  \\\n",
       "7                   134961    CAR                   95644   \n",
       "8                   171152    CAR                   67348   \n",
       "9                   625753    CAR                  158721   \n",
       "10                  147005    CAR                   79530   \n",
       "12                  101111    CAR                   88523   \n",
       "\n",
       "         Main Source of Income  Agricultural Household indicator  \\\n",
       "7      Other sources of Income                                 1   \n",
       "8      Other sources of Income                                 0   \n",
       "9   Enterpreneurial Activities                                 0   \n",
       "10  Enterpreneurial Activities                                 1   \n",
       "12  Enterpreneurial Activities                                 1   \n",
       "\n",
       "    Bread and Cereals Expenditure  Total Rice Expenditure  Meat Expenditure  \\\n",
       "7                           37168                   28156             14640   \n",
       "8                           23117                   15845             11464   \n",
       "9                           56003                   43239             26488   \n",
       "10                          36588                   30167             11174   \n",
       "12                          40531                   36200             14322   \n",
       "\n",
       "    Total Fish and  marine products Expenditure  Fruit Expenditure  ...  \\\n",
       "7                                         15896               3365  ...   \n",
       "8                                          6685               1370  ...   \n",
       "9                                         25678               3880  ...   \n",
       "10                                         7674               1709  ...   \n",
       "12                                         8344               2200  ...   \n",
       "\n",
       "    Number of Refrigerator/Freezer  Number of Washing Machine  \\\n",
       "7                                0                          1   \n",
       "8                                0                          0   \n",
       "9                                1                          0   \n",
       "10                               1                          0   \n",
       "12                               0                          0   \n",
       "\n",
       "    Number of Airconditioner  Number of Car, Jeep, Van  \\\n",
       "7                          0                         0   \n",
       "8                          0                         0   \n",
       "9                          0                         1   \n",
       "10                         0                         0   \n",
       "12                         0                         0   \n",
       "\n",
       "    Number of Landline/wireless telephones  Number of Cellular phone  \\\n",
       "7                                        0                         2   \n",
       "8                                        0                         2   \n",
       "9                                        0                         4   \n",
       "10                                       0                         1   \n",
       "12                                       0                         1   \n",
       "\n",
       "    Number of Personal Computer  Number of Stove with Oven/Gas Range  \\\n",
       "7                             0                                    0   \n",
       "8                             0                                    0   \n",
       "9                             1                                    0   \n",
       "10                            0                                    0   \n",
       "12                            0                                    0   \n",
       "\n",
       "    Number of Motorized Banca  Number of Motorcycle/Tricycle  \n",
       "7                           0                              1  \n",
       "8                           0                              0  \n",
       "9                           0                              0  \n",
       "10                          0                              1  \n",
       "12                          0                              0  \n",
       "\n",
       "[5 rows x 60 columns]"
      ]
     },
     "execution_count": 33,
     "metadata": {},
     "output_type": "execute_result"
    }
   ],
   "source": [
    "sample_2 = df[df['Main Source of Income'] != 'Wage/Salaries']\n",
    "\n",
    "sample_2.head()"
   ]
  },
  {
   "cell_type": "code",
   "execution_count": 34,
   "id": "503c32af",
   "metadata": {},
   "outputs": [],
   "source": [
    "n1 = len(sample_female)\n",
    "n2 = len(sample_male)\n",
    "confidence = 0.95\n",
    "meaningfulness = 1 - confidence\n",
    "mean_female = sample_female['Total Household Income'].mean()\n",
    "sigma_female = sample_female['Total Household Income'].std()\n",
    "mean_male = sample_male['Total Household Income'].mean()\n",
    "sigma_male = sample_male['Total Household Income'].std()\n",
    "gl = n1 + n2 - 2\n",
    "D_0 = 0"
   ]
  },
  {
   "cell_type": "code",
   "execution_count": 35,
   "id": "61da5691",
   "metadata": {},
   "outputs": [
    {
     "data": {
      "text/plain": [
       "1.6448536269514722"
      ]
     },
     "execution_count": 35,
     "metadata": {},
     "output_type": "execute_result"
    }
   ],
   "source": [
    "z_alpha = norm.ppf(confidence)\n",
    "\n",
    "z_alpha"
   ]
  },
  {
   "cell_type": "code",
   "execution_count": 36,
   "id": "8b2eb831",
   "metadata": {},
   "outputs": [
    {
     "data": {
      "text/plain": [
       "-5.916396683844423"
      ]
     },
     "execution_count": 36,
     "metadata": {},
     "output_type": "execute_result"
    }
   ],
   "source": [
    "numerator = (sigma_female - sigma_male) - D_0\n",
    "\n",
    "denominator = np.sqrt((sigma_female ** 2 / n1) + (sigma_male ** 2 / n2))\n",
    "\n",
    "z = numerator / denominator\n",
    "\n",
    "z"
   ]
  },
  {
   "cell_type": "code",
   "execution_count": 37,
   "id": "c4460bed",
   "metadata": {},
   "outputs": [
    {
     "data": {
      "text/plain": [
       "0.9999999983546449"
      ]
     },
     "execution_count": 37,
     "metadata": {},
     "output_type": "execute_result"
    }
   ],
   "source": [
    "p_value = norm.sf(z)\n",
    "\n",
    "p_value"
   ]
  },
  {
   "cell_type": "code",
   "execution_count": 38,
   "id": "ba351971",
   "metadata": {},
   "outputs": [
    {
     "name": "stdout",
     "output_type": "stream",
     "text": [
      "Aceita-se H0. Há diferença de média total de renda da família de acordo com a fonte salarial.\n"
     ]
    }
   ],
   "source": [
    "if p_value <= meaningfulness:\n",
    "    print('Rejeita-se H0. Não há diferença de média total de renda da família de acordo com a fonte salarial.')\n",
    "else:\n",
    "    print('Aceita-se H0. Há diferença de média total de renda da família de acordo com a fonte salarial.')"
   ]
  },
  {
   "cell_type": "markdown",
   "id": "a6be1db7",
   "metadata": {},
   "source": [
    "# Milestone 3 - Previsão de Renda Com Regressão Linear\n",
    "\n",
    "Usando Regressão Linear, crie um modelo de previsão de renda de forma a minimizar o erro. Considere 70% dos dados para treinar o modelo, e 30% para testá-lo. Por fim, utilize as métricas de avaliação do modelo que foram estudadas para validá-lo."
   ]
  },
  {
   "cell_type": "markdown",
   "id": "fe9acaf6",
   "metadata": {},
   "source": [
    "## Modelo inicial apenas com as variáveis numéricas e com mais correlação"
   ]
  },
  {
   "cell_type": "markdown",
   "id": "456fdc9f",
   "metadata": {},
   "source": [
    "### Variáveis com mais correlação"
   ]
  },
  {
   "cell_type": "code",
   "execution_count": 39,
   "id": "141ded7e",
   "metadata": {},
   "outputs": [
    {
     "data": {
      "text/plain": [
       "['Total Household Income',\n",
       " 'Total Food Expenditure',\n",
       " 'Clothing, Footwear and Other Wear Expenditure',\n",
       " 'Housing and water Expenditure',\n",
       " 'Transportation Expenditure',\n",
       " 'Communication Expenditure',\n",
       " 'Miscellaneous Goods and Services Expenditure']"
      ]
     },
     "execution_count": 39,
     "metadata": {},
     "output_type": "execute_result"
    }
   ],
   "source": [
    "columns = []\n",
    "\n",
    "for column in df.columns:\n",
    "    if df[column].dtype == 'int64':\n",
    "        correlation, p_value = pearsonr(df['Total Household Income'], df[column])\n",
    "        \n",
    "        if correlation > 0.6:\n",
    "            columns.append(column)\n",
    "\n",
    "columns"
   ]
  },
  {
   "cell_type": "markdown",
   "id": "4ec7744f",
   "metadata": {},
   "source": [
    "### LinerRegression"
   ]
  },
  {
   "cell_type": "code",
   "execution_count": 40,
   "id": "8bbbd623",
   "metadata": {},
   "outputs": [],
   "source": [
    "columns = [column for column in columns if column != 'Total Household Income']\n",
    "\n",
    "X = df[columns]\n",
    "\n",
    "y = df['Total Household Income']"
   ]
  },
  {
   "cell_type": "code",
   "execution_count": 41,
   "id": "bdc221b0",
   "metadata": {},
   "outputs": [
    {
     "data": {
      "text/html": [
       "<div>\n",
       "<style scoped>\n",
       "    .dataframe tbody tr th:only-of-type {\n",
       "        vertical-align: middle;\n",
       "    }\n",
       "\n",
       "    .dataframe tbody tr th {\n",
       "        vertical-align: top;\n",
       "    }\n",
       "\n",
       "    .dataframe thead th {\n",
       "        text-align: right;\n",
       "    }\n",
       "</style>\n",
       "<table border=\"1\" class=\"dataframe\">\n",
       "  <thead>\n",
       "    <tr style=\"text-align: right;\">\n",
       "      <th></th>\n",
       "      <th>Total Food Expenditure</th>\n",
       "      <th>Clothing, Footwear and Other Wear Expenditure</th>\n",
       "      <th>Housing and water Expenditure</th>\n",
       "      <th>Transportation Expenditure</th>\n",
       "      <th>Communication Expenditure</th>\n",
       "      <th>Miscellaneous Goods and Services Expenditure</th>\n",
       "    </tr>\n",
       "  </thead>\n",
       "  <tbody>\n",
       "    <tr>\n",
       "      <th>0</th>\n",
       "      <td>117848</td>\n",
       "      <td>4607</td>\n",
       "      <td>63636</td>\n",
       "      <td>4776</td>\n",
       "      <td>2880</td>\n",
       "      <td>34056</td>\n",
       "    </tr>\n",
       "    <tr>\n",
       "      <th>1</th>\n",
       "      <td>67766</td>\n",
       "      <td>8230</td>\n",
       "      <td>41370</td>\n",
       "      <td>12900</td>\n",
       "      <td>5700</td>\n",
       "      <td>9150</td>\n",
       "    </tr>\n",
       "    <tr>\n",
       "      <th>2</th>\n",
       "      <td>61609</td>\n",
       "      <td>2735</td>\n",
       "      <td>14340</td>\n",
       "      <td>324</td>\n",
       "      <td>420</td>\n",
       "      <td>6450</td>\n",
       "    </tr>\n",
       "    <tr>\n",
       "      <th>3</th>\n",
       "      <td>78189</td>\n",
       "      <td>1390</td>\n",
       "      <td>16638</td>\n",
       "      <td>6840</td>\n",
       "      <td>660</td>\n",
       "      <td>3762</td>\n",
       "    </tr>\n",
       "    <tr>\n",
       "      <th>4</th>\n",
       "      <td>94625</td>\n",
       "      <td>4620</td>\n",
       "      <td>31122</td>\n",
       "      <td>6996</td>\n",
       "      <td>2100</td>\n",
       "      <td>8472</td>\n",
       "    </tr>\n",
       "  </tbody>\n",
       "</table>\n",
       "</div>"
      ],
      "text/plain": [
       "   Total Food Expenditure  Clothing, Footwear and Other Wear Expenditure  \\\n",
       "0                  117848                                           4607   \n",
       "1                   67766                                           8230   \n",
       "2                   61609                                           2735   \n",
       "3                   78189                                           1390   \n",
       "4                   94625                                           4620   \n",
       "\n",
       "   Housing and water Expenditure  Transportation Expenditure  \\\n",
       "0                          63636                        4776   \n",
       "1                          41370                       12900   \n",
       "2                          14340                         324   \n",
       "3                          16638                        6840   \n",
       "4                          31122                        6996   \n",
       "\n",
       "   Communication Expenditure  Miscellaneous Goods and Services Expenditure  \n",
       "0                       2880                                         34056  \n",
       "1                       5700                                          9150  \n",
       "2                        420                                          6450  \n",
       "3                        660                                          3762  \n",
       "4                       2100                                          8472  "
      ]
     },
     "execution_count": 41,
     "metadata": {},
     "output_type": "execute_result"
    }
   ],
   "source": [
    "X.head()"
   ]
  },
  {
   "cell_type": "code",
   "execution_count": 42,
   "id": "fd5382d1",
   "metadata": {},
   "outputs": [
    {
     "data": {
      "text/plain": [
       "0    480332\n",
       "1    198235\n",
       "2     82785\n",
       "3    107589\n",
       "4    189322\n",
       "Name: Total Household Income, dtype: int64"
      ]
     },
     "execution_count": 42,
     "metadata": {},
     "output_type": "execute_result"
    }
   ],
   "source": [
    "y.head()"
   ]
  },
  {
   "cell_type": "code",
   "execution_count": 43,
   "id": "35c2646d",
   "metadata": {},
   "outputs": [
    {
     "data": {
      "text/plain": [
       "0.6993954481408245"
      ]
     },
     "execution_count": 43,
     "metadata": {},
     "output_type": "execute_result"
    }
   ],
   "source": [
    "lr = LinearRegression().fit(X, y)\n",
    "\n",
    "y_pred = lr.predict(X)\n",
    "\n",
    "lr.score(X, y)"
   ]
  },
  {
   "cell_type": "code",
   "execution_count": 44,
   "id": "4539ed12",
   "metadata": {},
   "outputs": [
    {
     "data": {
      "text/plain": [
       "<matplotlib.collections.PathCollection at 0x20adf017520>"
      ]
     },
     "execution_count": 44,
     "metadata": {},
     "output_type": "execute_result"
    },
    {
     "data": {
      "image/png": "[encoded data removed]",
      "text/plain": [
       "<Figure size 1008x432 with 1 Axes>"
      ]
     },
     "metadata": {},
     "output_type": "display_data"
    }
   ],
   "source": [
    "waste = y - y_pred\n",
    "\n",
    "plt.figure(figsize=(14, 6))\n",
    "\n",
    "plt.scatter(y, waste)"
   ]
  },
  {
   "cell_type": "code",
   "execution_count": 45,
   "id": "1d6e732e",
   "metadata": {},
   "outputs": [
    {
     "data": {
      "text/plain": [
       "<AxesSubplot:xlabel='Total Household Income', ylabel='Count'>"
      ]
     },
     "execution_count": 45,
     "metadata": {},
     "output_type": "execute_result"
    },
    {
     "data": {
      "image/png": "[encoded data removed]",
      "text/plain": [
       "<Figure size 432x288 with 1 Axes>"
      ]
     },
     "metadata": {},
     "output_type": "display_data"
    }
   ],
   "source": [
    "sns.histplot(waste, kde=True)"
   ]
  },
  {
   "cell_type": "markdown",
   "id": "ad7f4005",
   "metadata": {},
   "source": [
    "### Statsmodels"
   ]
  },
  {
   "cell_type": "code",
   "execution_count": 46,
   "id": "c0b73d6b",
   "metadata": {},
   "outputs": [
    {
     "name": "stderr",
     "output_type": "stream",
     "text": [
      "C:\\Users\\lucas\\anaconda3\\lib\\site-packages\\statsmodels\\tsa\\tsatools.py:142: FutureWarning: In a future version of pandas all arguments of concat except for the argument 'objs' will be keyword-only\n",
      "  x = pd.concat(x[::order], 1)\n"
     ]
    }
   ],
   "source": [
    "x = sm.add_constant(X)\n",
    "\n",
    "model_initial = sm.OLS(y, x).fit()"
   ]
  },
  {
   "cell_type": "code",
   "execution_count": 47,
   "id": "893df45a",
   "metadata": {},
   "outputs": [
    {
     "data": {
      "text/html": [
       "<table class=\"simpletable\">\n",
       "<caption>OLS Regression Results</caption>\n",
       "<tr>\n",
       "  <th>Dep. Variable:</th>    <td>Total Household Income</td> <th>  R-squared:         </th>  <td>   0.699</td>  \n",
       "</tr>\n",
       "<tr>\n",
       "  <th>Model:</th>                      <td>OLS</td>          <th>  Adj. R-squared:    </th>  <td>   0.699</td>  \n",
       "</tr>\n",
       "<tr>\n",
       "  <th>Method:</th>                <td>Least Squares</td>     <th>  F-statistic:       </th>  <td>1.611e+04</td> \n",
       "</tr>\n",
       "<tr>\n",
       "  <th>Date:</th>                <td>Tue, 21 Dec 2021</td>    <th>  Prob (F-statistic):</th>   <td>  0.00</td>   \n",
       "</tr>\n",
       "<tr>\n",
       "  <th>Time:</th>                    <td>15:46:53</td>        <th>  Log-Likelihood:    </th> <td>-5.5606e+05</td>\n",
       "</tr>\n",
       "<tr>\n",
       "  <th>No. Observations:</th>         <td> 41544</td>         <th>  AIC:               </th>  <td>1.112e+06</td> \n",
       "</tr>\n",
       "<tr>\n",
       "  <th>Df Residuals:</th>             <td> 41537</td>         <th>  BIC:               </th>  <td>1.112e+06</td> \n",
       "</tr>\n",
       "<tr>\n",
       "  <th>Df Model:</th>                 <td>     6</td>         <th>                     </th>      <td> </td>     \n",
       "</tr>\n",
       "<tr>\n",
       "  <th>Covariance Type:</th>         <td>nonrobust</td>       <th>                     </th>      <td> </td>     \n",
       "</tr>\n",
       "</table>\n",
       "<table class=\"simpletable\">\n",
       "<tr>\n",
       "                        <td></td>                           <th>coef</th>     <th>std err</th>      <th>t</th>      <th>P>|t|</th>  <th>[0.025</th>    <th>0.975]</th>  \n",
       "</tr>\n",
       "<tr>\n",
       "  <th>const</th>                                         <td> 4155.2546</td> <td> 1577.467</td> <td>    2.634</td> <td> 0.008</td> <td> 1063.386</td> <td> 7247.124</td>\n",
       "</tr>\n",
       "<tr>\n",
       "  <th>Total Food Expenditure</th>                        <td>    0.8263</td> <td>    0.022</td> <td>   38.269</td> <td> 0.000</td> <td>    0.784</td> <td>    0.869</td>\n",
       "</tr>\n",
       "<tr>\n",
       "  <th>Clothing, Footwear and Other Wear Expenditure</th> <td>    5.0707</td> <td>    0.137</td> <td>   37.070</td> <td> 0.000</td> <td>    4.803</td> <td>    5.339</td>\n",
       "</tr>\n",
       "<tr>\n",
       "  <th>Housing and water Expenditure</th>                 <td>    1.4841</td> <td>    0.020</td> <td>   76.040</td> <td> 0.000</td> <td>    1.446</td> <td>    1.522</td>\n",
       "</tr>\n",
       "<tr>\n",
       "  <th>Transportation Expenditure</th>                    <td>    2.0474</td> <td>    0.055</td> <td>   37.090</td> <td> 0.000</td> <td>    1.939</td> <td>    2.156</td>\n",
       "</tr>\n",
       "<tr>\n",
       "  <th>Communication Expenditure</th>                     <td>    6.0593</td> <td>    0.171</td> <td>   35.506</td> <td> 0.000</td> <td>    5.725</td> <td>    6.394</td>\n",
       "</tr>\n",
       "<tr>\n",
       "  <th>Miscellaneous Goods and Services Expenditure</th>  <td>    3.3553</td> <td>    0.062</td> <td>   54.375</td> <td> 0.000</td> <td>    3.234</td> <td>    3.476</td>\n",
       "</tr>\n",
       "</table>\n",
       "<table class=\"simpletable\">\n",
       "<tr>\n",
       "  <th>Omnibus:</th>       <td>91970.258</td> <th>  Durbin-Watson:     </th>    <td>   1.882</td>   \n",
       "</tr>\n",
       "<tr>\n",
       "  <th>Prob(Omnibus):</th>  <td> 0.000</td>   <th>  Jarque-Bera (JB):  </th> <td>1636506648.287</td>\n",
       "</tr>\n",
       "<tr>\n",
       "  <th>Skew:</th>           <td>20.038</td>   <th>  Prob(JB):          </th>    <td>    0.00</td>   \n",
       "</tr>\n",
       "<tr>\n",
       "  <th>Kurtosis:</th>       <td>974.496</td>  <th>  Cond. No.          </th>    <td>2.35e+05</td>   \n",
       "</tr>\n",
       "</table><br/><br/>Notes:<br/>[1] Standard Errors assume that the covariance matrix of the errors is correctly specified.<br/>[2] The condition number is large, 2.35e+05. This might indicate that there are<br/>strong multicollinearity or other numerical problems."
      ],
      "text/plain": [
       "<class 'statsmodels.iolib.summary.Summary'>\n",
       "\"\"\"\n",
       "                              OLS Regression Results                              \n",
       "==================================================================================\n",
       "Dep. Variable:     Total Household Income   R-squared:                       0.699\n",
       "Model:                                OLS   Adj. R-squared:                  0.699\n",
       "Method:                     Least Squares   F-statistic:                 1.611e+04\n",
       "Date:                    Tue, 21 Dec 2021   Prob (F-statistic):               0.00\n",
       "Time:                            15:46:53   Log-Likelihood:            -5.5606e+05\n",
       "No. Observations:                   41544   AIC:                         1.112e+06\n",
       "Df Residuals:                       41537   BIC:                         1.112e+06\n",
       "Df Model:                               6                                         \n",
       "Covariance Type:                nonrobust                                         \n",
       "=================================================================================================================\n",
       "                                                    coef    std err          t      P>|t|      [0.025      0.975]\n",
       "-----------------------------------------------------------------------------------------------------------------\n",
       "const                                          4155.2546   1577.467      2.634      0.008    1063.386    7247.124\n",
       "Total Food Expenditure                            0.8263      0.022     38.269      0.000       0.784       0.869\n",
       "Clothing, Footwear and Other Wear Expenditure     5.0707      0.137     37.070      0.000       4.803       5.339\n",
       "Housing and water Expenditure                     1.4841      0.020     76.040      0.000       1.446       1.522\n",
       "Transportation Expenditure                        2.0474      0.055     37.090      0.000       1.939       2.156\n",
       "Communication Expenditure                         6.0593      0.171     35.506      0.000       5.725       6.394\n",
       "Miscellaneous Goods and Services Expenditure      3.3553      0.062     54.375      0.000       3.234       3.476\n",
       "==============================================================================\n",
       "Omnibus:                    91970.258   Durbin-Watson:                   1.882\n",
       "Prob(Omnibus):                  0.000   Jarque-Bera (JB):       1636506648.287\n",
       "Skew:                          20.038   Prob(JB):                         0.00\n",
       "Kurtosis:                     974.496   Cond. No.                     2.35e+05\n",
       "==============================================================================\n",
       "\n",
       "Notes:\n",
       "[1] Standard Errors assume that the covariance matrix of the errors is correctly specified.\n",
       "[2] The condition number is large, 2.35e+05. This might indicate that there are\n",
       "strong multicollinearity or other numerical problems.\n",
       "\"\"\""
      ]
     },
     "execution_count": 47,
     "metadata": {},
     "output_type": "execute_result"
    }
   ],
   "source": [
    "model_initial.summary()"
   ]
  },
  {
   "cell_type": "markdown",
   "id": "014d48f6",
   "metadata": {},
   "source": [
    "## Modelo sem os outliers"
   ]
  },
  {
   "cell_type": "markdown",
   "id": "5ba6f96b",
   "metadata": {},
   "source": [
    "### Removendo os outliers"
   ]
  },
  {
   "cell_type": "code",
   "execution_count": 48,
   "id": "aca49e5e",
   "metadata": {},
   "outputs": [
    {
     "data": {
      "text/plain": [
       "['Total Food Expenditure',\n",
       " 'Clothing, Footwear and Other Wear Expenditure',\n",
       " 'Housing and water Expenditure',\n",
       " 'Transportation Expenditure',\n",
       " 'Communication Expenditure',\n",
       " 'Miscellaneous Goods and Services Expenditure']"
      ]
     },
     "execution_count": 48,
     "metadata": {},
     "output_type": "execute_result"
    }
   ],
   "source": [
    "columns_to_remove_outliers = []\n",
    "\n",
    "for column in columns:\n",
    "    var = df[column].var()\n",
    "    mean = df[column].mean()\n",
    "    \n",
    "    if var > mean:\n",
    "        columns_to_remove_outliers.append(column)\n",
    "\n",
    "columns_to_remove_outliers"
   ]
  },
  {
   "cell_type": "code",
   "execution_count": 49,
   "id": "9cc852cf",
   "metadata": {},
   "outputs": [
    {
     "data": {
      "text/plain": [
       "<AxesSubplot:xlabel='Total Food Expenditure'>"
      ]
     },
     "execution_count": 49,
     "metadata": {},
     "output_type": "execute_result"
    },
    {
     "data": {
      "image/png": "[encoded data removed]",
      "text/plain": [
       "<Figure size 432x288 with 1 Axes>"
      ]
     },
     "metadata": {},
     "output_type": "display_data"
    }
   ],
   "source": [
    "sns.boxplot(data=df, x='Total Food Expenditure')"
   ]
  },
  {
   "cell_type": "code",
   "execution_count": 50,
   "id": "b53515a6",
   "metadata": {},
   "outputs": [
    {
     "data": {
      "text/plain": [
       "<AxesSubplot:xlabel='Clothing, Footwear and Other Wear Expenditure'>"
      ]
     },
     "execution_count": 50,
     "metadata": {},
     "output_type": "execute_result"
    },
    {
     "data": {
      "image/png": "[encoded data removed]",
      "text/plain": [
       "<Figure size 432x288 with 1 Axes>"
      ]
     },
     "metadata": {},
     "output_type": "display_data"
    }
   ],
   "source": [
    "sns.boxplot(data=df, x='Clothing, Footwear and Other Wear Expenditure')"
   ]
  },
  {
   "cell_type": "code",
   "execution_count": 51,
   "id": "013a9b28",
   "metadata": {},
   "outputs": [
    {
     "data": {
      "text/plain": [
       "<AxesSubplot:xlabel='Housing and water Expenditure'>"
      ]
     },
     "execution_count": 51,
     "metadata": {},
     "output_type": "execute_result"
    },
    {
     "data": {
      "image/png": "[encoded data removed]",
      "text/plain": [
       "<Figure size 432x288 with 1 Axes>"
      ]
     },
     "metadata": {},
     "output_type": "display_data"
    }
   ],
   "source": [
    "sns.boxplot(data=df, x='Housing and water Expenditure')"
   ]
  },
  {
   "cell_type": "code",
   "execution_count": 52,
   "id": "18a04ff0",
   "metadata": {},
   "outputs": [
    {
     "data": {
      "text/plain": [
       "<AxesSubplot:xlabel='Transportation Expenditure'>"
      ]
     },
     "execution_count": 52,
     "metadata": {},
     "output_type": "execute_result"
    },
    {
     "data": {
      "image/png": "[encoded data removed]",
      "text/plain": [
       "<Figure size 432x288 with 1 Axes>"
      ]
     },
     "metadata": {},
     "output_type": "display_data"
    }
   ],
   "source": [
    "sns.boxplot(data=df, x='Transportation Expenditure')"
   ]
  },
  {
   "cell_type": "code",
   "execution_count": 53,
   "id": "319cf74c",
   "metadata": {},
   "outputs": [
    {
     "data": {
      "text/plain": [
       "<AxesSubplot:xlabel='Communication Expenditure'>"
      ]
     },
     "execution_count": 53,
     "metadata": {},
     "output_type": "execute_result"
    },
    {
     "data": {
      "image/png": "[encoded data removed]",
      "text/plain": [
       "<Figure size 432x288 with 1 Axes>"
      ]
     },
     "metadata": {},
     "output_type": "display_data"
    }
   ],
   "source": [
    "sns.boxplot(data=df, x='Communication Expenditure')"
   ]
  },
  {
   "cell_type": "code",
   "execution_count": 54,
   "id": "97b7212d",
   "metadata": {},
   "outputs": [
    {
     "data": {
      "text/plain": [
       "<AxesSubplot:xlabel='Miscellaneous Goods and Services Expenditure'>"
      ]
     },
     "execution_count": 54,
     "metadata": {},
     "output_type": "execute_result"
    },
    {
     "data": {
      "image/png": "[encoded data removed]",
      "text/plain": [
       "<Figure size 432x288 with 1 Axes>"
      ]
     },
     "metadata": {},
     "output_type": "display_data"
    }
   ],
   "source": [
    "sns.boxplot(data=df, x='Miscellaneous Goods and Services Expenditure')"
   ]
  },
  {
   "cell_type": "code",
   "execution_count": 55,
   "id": "8d31290c",
   "metadata": {},
   "outputs": [],
   "source": [
    "def calc_inf_sup_interval(column_data):\n",
    "    Q1 = column_data.quantile(q=0.25)\n",
    "    \n",
    "    Q3 = column_data.quantile(q=0.75)\n",
    "\n",
    "    IQR = Q3 - Q1\n",
    "\n",
    "    inf = Q1 - 1.5 * IQR\n",
    "    \n",
    "    sup = Q3 + 1.5 * IQR\n",
    "\n",
    "    return inf, sup"
   ]
  },
  {
   "cell_type": "code",
   "execution_count": 56,
   "id": "c8a5fcb0",
   "metadata": {},
   "outputs": [],
   "source": [
    "df_without_outliers = df.copy()\n",
    "\n",
    "for column in columns_to_remove_outliers:\n",
    "    inf, sup = calc_inf_sup_interval(df_without_outliers[column])\n",
    "    \n",
    "    df_without_outliers = df_without_outliers[(df_without_outliers[column] >= inf) & (df_without_outliers[column] <= sup)]"
   ]
  },
  {
   "cell_type": "code",
   "execution_count": 57,
   "id": "75bfaffb",
   "metadata": {},
   "outputs": [],
   "source": [
    "X = df_without_outliers[columns]\n",
    "\n",
    "y = df_without_outliers['Total Household Income']"
   ]
  },
  {
   "cell_type": "markdown",
   "id": "9674dc02",
   "metadata": {},
   "source": [
    "### LinearRegression"
   ]
  },
  {
   "cell_type": "code",
   "execution_count": 58,
   "id": "99454522",
   "metadata": {},
   "outputs": [
    {
     "data": {
      "text/plain": [
       "0.550779977008339"
      ]
     },
     "execution_count": 58,
     "metadata": {},
     "output_type": "execute_result"
    }
   ],
   "source": [
    "lr = LinearRegression().fit(X, y)\n",
    "\n",
    "y_pred = lr.predict(X)\n",
    "\n",
    "lr.score(X, y)"
   ]
  },
  {
   "cell_type": "code",
   "execution_count": 59,
   "id": "57a1e124",
   "metadata": {},
   "outputs": [],
   "source": [
    "waste = y - y_pred"
   ]
  },
  {
   "cell_type": "code",
   "execution_count": 60,
   "id": "564a0713",
   "metadata": {},
   "outputs": [
    {
     "data": {
      "text/plain": [
       "<matplotlib.collections.PathCollection at 0x20ae71b0f70>"
      ]
     },
     "execution_count": 60,
     "metadata": {},
     "output_type": "execute_result"
    },
    {
     "data": {
      "image/png": "[encoded data removed]",
      "text/plain": [
       "<Figure size 1008x432 with 1 Axes>"
      ]
     },
     "metadata": {},
     "output_type": "display_data"
    }
   ],
   "source": [
    "plt.figure(figsize=(14, 6))\n",
    "\n",
    "plt.scatter(y, waste)"
   ]
  },
  {
   "cell_type": "code",
   "execution_count": 61,
   "id": "e00a028a",
   "metadata": {},
   "outputs": [
    {
     "data": {
      "text/plain": [
       "<AxesSubplot:xlabel='Total Household Income', ylabel='Count'>"
      ]
     },
     "execution_count": 61,
     "metadata": {},
     "output_type": "execute_result"
    },
    {
     "data": {
      "image/png": "[encoded data removed]",
      "text/plain": [
       "<Figure size 432x288 with 1 Axes>"
      ]
     },
     "metadata": {},
     "output_type": "display_data"
    }
   ],
   "source": [
    "sns.histplot(waste, kde=True)"
   ]
  },
  {
   "cell_type": "markdown",
   "id": "3ef91948",
   "metadata": {},
   "source": [
    "### Statsmodels"
   ]
  },
  {
   "cell_type": "code",
   "execution_count": 62,
   "id": "ecb7a606",
   "metadata": {},
   "outputs": [
    {
     "name": "stderr",
     "output_type": "stream",
     "text": [
      "C:\\Users\\lucas\\anaconda3\\lib\\site-packages\\statsmodels\\tsa\\tsatools.py:142: FutureWarning: In a future version of pandas all arguments of concat except for the argument 'objs' will be keyword-only\n",
      "  x = pd.concat(x[::order], 1)\n"
     ]
    }
   ],
   "source": [
    "x = sm.add_constant(X)\n",
    "\n",
    "model_initial = sm.OLS(y, x).fit()"
   ]
  },
  {
   "cell_type": "code",
   "execution_count": 63,
   "id": "988cd17c",
   "metadata": {},
   "outputs": [
    {
     "data": {
      "text/html": [
       "<table class=\"simpletable\">\n",
       "<caption>OLS Regression Results</caption>\n",
       "<tr>\n",
       "  <th>Dep. Variable:</th>    <td>Total Household Income</td> <th>  R-squared:         </th>  <td>   0.551</td>  \n",
       "</tr>\n",
       "<tr>\n",
       "  <th>Model:</th>                      <td>OLS</td>          <th>  Adj. R-squared:    </th>  <td>   0.551</td>  \n",
       "</tr>\n",
       "<tr>\n",
       "  <th>Method:</th>                <td>Least Squares</td>     <th>  F-statistic:       </th>  <td>   5611.</td>  \n",
       "</tr>\n",
       "<tr>\n",
       "  <th>Date:</th>                <td>Tue, 21 Dec 2021</td>    <th>  Prob (F-statistic):</th>   <td>  0.00</td>   \n",
       "</tr>\n",
       "<tr>\n",
       "  <th>Time:</th>                    <td>15:46:55</td>        <th>  Log-Likelihood:    </th> <td>-3.3708e+05</td>\n",
       "</tr>\n",
       "<tr>\n",
       "  <th>No. Observations:</th>         <td> 27464</td>         <th>  AIC:               </th>  <td>6.742e+05</td> \n",
       "</tr>\n",
       "<tr>\n",
       "  <th>Df Residuals:</th>             <td> 27457</td>         <th>  BIC:               </th>  <td>6.742e+05</td> \n",
       "</tr>\n",
       "<tr>\n",
       "  <th>Df Model:</th>                 <td>     6</td>         <th>                     </th>      <td> </td>     \n",
       "</tr>\n",
       "<tr>\n",
       "  <th>Covariance Type:</th>         <td>nonrobust</td>       <th>                     </th>      <td> </td>     \n",
       "</tr>\n",
       "</table>\n",
       "<table class=\"simpletable\">\n",
       "<tr>\n",
       "                        <td></td>                           <th>coef</th>     <th>std err</th>      <th>t</th>      <th>P>|t|</th>  <th>[0.025</th>    <th>0.975]</th>  \n",
       "</tr>\n",
       "<tr>\n",
       "  <th>const</th>                                         <td> 6975.0193</td> <td>  822.419</td> <td>    8.481</td> <td> 0.000</td> <td> 5363.037</td> <td> 8587.001</td>\n",
       "</tr>\n",
       "<tr>\n",
       "  <th>Total Food Expenditure</th>                        <td>    0.9584</td> <td>    0.015</td> <td>   64.981</td> <td> 0.000</td> <td>    0.929</td> <td>    0.987</td>\n",
       "</tr>\n",
       "<tr>\n",
       "  <th>Clothing, Footwear and Other Wear Expenditure</th> <td>    3.4954</td> <td>    0.180</td> <td>   19.395</td> <td> 0.000</td> <td>    3.142</td> <td>    3.849</td>\n",
       "</tr>\n",
       "<tr>\n",
       "  <th>Housing and water Expenditure</th>                 <td>    1.7044</td> <td>    0.028</td> <td>   61.468</td> <td> 0.000</td> <td>    1.650</td> <td>    1.759</td>\n",
       "</tr>\n",
       "<tr>\n",
       "  <th>Transportation Expenditure</th>                    <td>    1.7716</td> <td>    0.081</td> <td>   21.744</td> <td> 0.000</td> <td>    1.612</td> <td>    1.931</td>\n",
       "</tr>\n",
       "<tr>\n",
       "  <th>Communication Expenditure</th>                     <td>    6.9263</td> <td>    0.373</td> <td>   18.562</td> <td> 0.000</td> <td>    6.195</td> <td>    7.658</td>\n",
       "</tr>\n",
       "<tr>\n",
       "  <th>Miscellaneous Goods and Services Expenditure</th>  <td>    1.8684</td> <td>    0.128</td> <td>   14.651</td> <td> 0.000</td> <td>    1.618</td> <td>    2.118</td>\n",
       "</tr>\n",
       "</table>\n",
       "<table class=\"simpletable\">\n",
       "<tr>\n",
       "  <th>Omnibus:</th>       <td>32957.715</td> <th>  Durbin-Watson:     </th>   <td>   1.755</td>  \n",
       "</tr>\n",
       "<tr>\n",
       "  <th>Prob(Omnibus):</th>  <td> 0.000</td>   <th>  Jarque-Bera (JB):  </th> <td>16174586.119</td>\n",
       "</tr>\n",
       "<tr>\n",
       "  <th>Skew:</th>           <td> 5.905</td>   <th>  Prob(JB):          </th>   <td>    0.00</td>  \n",
       "</tr>\n",
       "<tr>\n",
       "  <th>Kurtosis:</th>       <td>121.301</td>  <th>  Cond. No.          </th>   <td>1.91e+05</td>  \n",
       "</tr>\n",
       "</table><br/><br/>Notes:<br/>[1] Standard Errors assume that the covariance matrix of the errors is correctly specified.<br/>[2] The condition number is large, 1.91e+05. This might indicate that there are<br/>strong multicollinearity or other numerical problems."
      ],
      "text/plain": [
       "<class 'statsmodels.iolib.summary.Summary'>\n",
       "\"\"\"\n",
       "                              OLS Regression Results                              \n",
       "==================================================================================\n",
       "Dep. Variable:     Total Household Income   R-squared:                       0.551\n",
       "Model:                                OLS   Adj. R-squared:                  0.551\n",
       "Method:                     Least Squares   F-statistic:                     5611.\n",
       "Date:                    Tue, 21 Dec 2021   Prob (F-statistic):               0.00\n",
       "Time:                            15:46:55   Log-Likelihood:            -3.3708e+05\n",
       "No. Observations:                   27464   AIC:                         6.742e+05\n",
       "Df Residuals:                       27457   BIC:                         6.742e+05\n",
       "Df Model:                               6                                         \n",
       "Covariance Type:                nonrobust                                         \n",
       "=================================================================================================================\n",
       "                                                    coef    std err          t      P>|t|      [0.025      0.975]\n",
       "-----------------------------------------------------------------------------------------------------------------\n",
       "const                                          6975.0193    822.419      8.481      0.000    5363.037    8587.001\n",
       "Total Food Expenditure                            0.9584      0.015     64.981      0.000       0.929       0.987\n",
       "Clothing, Footwear and Other Wear Expenditure     3.4954      0.180     19.395      0.000       3.142       3.849\n",
       "Housing and water Expenditure                     1.7044      0.028     61.468      0.000       1.650       1.759\n",
       "Transportation Expenditure                        1.7716      0.081     21.744      0.000       1.612       1.931\n",
       "Communication Expenditure                         6.9263      0.373     18.562      0.000       6.195       7.658\n",
       "Miscellaneous Goods and Services Expenditure      1.8684      0.128     14.651      0.000       1.618       2.118\n",
       "==============================================================================\n",
       "Omnibus:                    32957.715   Durbin-Watson:                   1.755\n",
       "Prob(Omnibus):                  0.000   Jarque-Bera (JB):         16174586.119\n",
       "Skew:                           5.905   Prob(JB):                         0.00\n",
       "Kurtosis:                     121.301   Cond. No.                     1.91e+05\n",
       "==============================================================================\n",
       "\n",
       "Notes:\n",
       "[1] Standard Errors assume that the covariance matrix of the errors is correctly specified.\n",
       "[2] The condition number is large, 1.91e+05. This might indicate that there are\n",
       "strong multicollinearity or other numerical problems.\n",
       "\"\"\""
      ]
     },
     "execution_count": 63,
     "metadata": {},
     "output_type": "execute_result"
    }
   ],
   "source": [
    "model_initial.summary()"
   ]
  },
  {
   "cell_type": "markdown",
   "id": "5007bf88",
   "metadata": {},
   "source": [
    "## Modelo treinando 70% da amostra"
   ]
  },
  {
   "cell_type": "code",
   "execution_count": 64,
   "id": "9fa2df62",
   "metadata": {},
   "outputs": [],
   "source": [
    "X_final = df_without_outliers[columns]\n",
    "\n",
    "y_final = df_without_outliers['Total Household Income']"
   ]
  },
  {
   "cell_type": "code",
   "execution_count": 65,
   "id": "a5d49305",
   "metadata": {},
   "outputs": [],
   "source": [
    "X_train, X_test, y_train, y_test = train_test_split(X_final, y_final, test_size=0.3, random_state=101)"
   ]
  },
  {
   "cell_type": "code",
   "execution_count": 66,
   "id": "a255b62c",
   "metadata": {},
   "outputs": [
    {
     "data": {
      "text/plain": [
       "(27464, 6)"
      ]
     },
     "execution_count": 66,
     "metadata": {},
     "output_type": "execute_result"
    }
   ],
   "source": [
    "X_final.shape"
   ]
  },
  {
   "cell_type": "code",
   "execution_count": 67,
   "id": "d9ebabcc",
   "metadata": {},
   "outputs": [
    {
     "data": {
      "text/plain": [
       "(19224, 6)"
      ]
     },
     "execution_count": 67,
     "metadata": {},
     "output_type": "execute_result"
    }
   ],
   "source": [
    "X_train.shape"
   ]
  },
  {
   "cell_type": "code",
   "execution_count": 68,
   "id": "dcdd67e8",
   "metadata": {},
   "outputs": [
    {
     "data": {
      "text/plain": [
       "(8240, 6)"
      ]
     },
     "execution_count": 68,
     "metadata": {},
     "output_type": "execute_result"
    }
   ],
   "source": [
    "X_test.shape"
   ]
  },
  {
   "cell_type": "code",
   "execution_count": 69,
   "id": "fd3172b4",
   "metadata": {},
   "outputs": [
    {
     "data": {
      "text/plain": [
       "(27464,)"
      ]
     },
     "execution_count": 69,
     "metadata": {},
     "output_type": "execute_result"
    }
   ],
   "source": [
    "y_final.shape"
   ]
  },
  {
   "cell_type": "code",
   "execution_count": 70,
   "id": "78abc284",
   "metadata": {},
   "outputs": [
    {
     "data": {
      "text/plain": [
       "(19224,)"
      ]
     },
     "execution_count": 70,
     "metadata": {},
     "output_type": "execute_result"
    }
   ],
   "source": [
    "y_train.shape"
   ]
  },
  {
   "cell_type": "code",
   "execution_count": 71,
   "id": "97c96864",
   "metadata": {},
   "outputs": [
    {
     "data": {
      "text/plain": [
       "(8240,)"
      ]
     },
     "execution_count": 71,
     "metadata": {},
     "output_type": "execute_result"
    }
   ],
   "source": [
    "y_test.shape"
   ]
  },
  {
   "cell_type": "markdown",
   "id": "1204552b",
   "metadata": {},
   "source": [
    "### LinearRegression"
   ]
  },
  {
   "cell_type": "code",
   "execution_count": 72,
   "id": "50e05cb2",
   "metadata": {},
   "outputs": [],
   "source": [
    "lr_final = LinearRegression().fit(X_train, y_train)\n",
    "\n",
    "y_est_final = lr_final.predict(X_test)"
   ]
  },
  {
   "cell_type": "code",
   "execution_count": 73,
   "id": "774f35d4",
   "metadata": {},
   "outputs": [
    {
     "data": {
      "text/plain": [
       "0.5667761515245482"
      ]
     },
     "execution_count": 73,
     "metadata": {},
     "output_type": "execute_result"
    }
   ],
   "source": [
    "lr.score(X_train, y_train)"
   ]
  },
  {
   "cell_type": "code",
   "execution_count": 74,
   "id": "558b8c32",
   "metadata": {
    "scrolled": true
   },
   "outputs": [
    {
     "data": {
      "text/plain": [
       "0.5159859623301302"
      ]
     },
     "execution_count": 74,
     "metadata": {},
     "output_type": "execute_result"
    }
   ],
   "source": [
    "r2_score(y_test, y_est_final)"
   ]
  },
  {
   "cell_type": "markdown",
   "id": "53940d81",
   "metadata": {},
   "source": [
    "### Statsmodels"
   ]
  },
  {
   "cell_type": "code",
   "execution_count": 75,
   "id": "c6dc47bd",
   "metadata": {},
   "outputs": [
    {
     "name": "stderr",
     "output_type": "stream",
     "text": [
      "C:\\Users\\lucas\\anaconda3\\lib\\site-packages\\statsmodels\\tsa\\tsatools.py:142: FutureWarning: In a future version of pandas all arguments of concat except for the argument 'objs' will be keyword-only\n",
      "  x = pd.concat(x[::order], 1)\n"
     ]
    }
   ],
   "source": [
    "x = sm.add_constant(X_final)\n",
    "\n",
    "model = sm.OLS(y_final, x).fit()"
   ]
  },
  {
   "cell_type": "code",
   "execution_count": 76,
   "id": "0e272280",
   "metadata": {},
   "outputs": [
    {
     "data": {
      "text/html": [
       "<table class=\"simpletable\">\n",
       "<caption>OLS Regression Results</caption>\n",
       "<tr>\n",
       "  <th>Dep. Variable:</th>    <td>Total Household Income</td> <th>  R-squared:         </th>  <td>   0.551</td>  \n",
       "</tr>\n",
       "<tr>\n",
       "  <th>Model:</th>                      <td>OLS</td>          <th>  Adj. R-squared:    </th>  <td>   0.551</td>  \n",
       "</tr>\n",
       "<tr>\n",
       "  <th>Method:</th>                <td>Least Squares</td>     <th>  F-statistic:       </th>  <td>   5611.</td>  \n",
       "</tr>\n",
       "<tr>\n",
       "  <th>Date:</th>                <td>Tue, 21 Dec 2021</td>    <th>  Prob (F-statistic):</th>   <td>  0.00</td>   \n",
       "</tr>\n",
       "<tr>\n",
       "  <th>Time:</th>                    <td>15:46:56</td>        <th>  Log-Likelihood:    </th> <td>-3.3708e+05</td>\n",
       "</tr>\n",
       "<tr>\n",
       "  <th>No. Observations:</th>         <td> 27464</td>         <th>  AIC:               </th>  <td>6.742e+05</td> \n",
       "</tr>\n",
       "<tr>\n",
       "  <th>Df Residuals:</th>             <td> 27457</td>         <th>  BIC:               </th>  <td>6.742e+05</td> \n",
       "</tr>\n",
       "<tr>\n",
       "  <th>Df Model:</th>                 <td>     6</td>         <th>                     </th>      <td> </td>     \n",
       "</tr>\n",
       "<tr>\n",
       "  <th>Covariance Type:</th>         <td>nonrobust</td>       <th>                     </th>      <td> </td>     \n",
       "</tr>\n",
       "</table>\n",
       "<table class=\"simpletable\">\n",
       "<tr>\n",
       "                        <td></td>                           <th>coef</th>     <th>std err</th>      <th>t</th>      <th>P>|t|</th>  <th>[0.025</th>    <th>0.975]</th>  \n",
       "</tr>\n",
       "<tr>\n",
       "  <th>const</th>                                         <td> 6975.0193</td> <td>  822.419</td> <td>    8.481</td> <td> 0.000</td> <td> 5363.037</td> <td> 8587.001</td>\n",
       "</tr>\n",
       "<tr>\n",
       "  <th>Total Food Expenditure</th>                        <td>    0.9584</td> <td>    0.015</td> <td>   64.981</td> <td> 0.000</td> <td>    0.929</td> <td>    0.987</td>\n",
       "</tr>\n",
       "<tr>\n",
       "  <th>Clothing, Footwear and Other Wear Expenditure</th> <td>    3.4954</td> <td>    0.180</td> <td>   19.395</td> <td> 0.000</td> <td>    3.142</td> <td>    3.849</td>\n",
       "</tr>\n",
       "<tr>\n",
       "  <th>Housing and water Expenditure</th>                 <td>    1.7044</td> <td>    0.028</td> <td>   61.468</td> <td> 0.000</td> <td>    1.650</td> <td>    1.759</td>\n",
       "</tr>\n",
       "<tr>\n",
       "  <th>Transportation Expenditure</th>                    <td>    1.7716</td> <td>    0.081</td> <td>   21.744</td> <td> 0.000</td> <td>    1.612</td> <td>    1.931</td>\n",
       "</tr>\n",
       "<tr>\n",
       "  <th>Communication Expenditure</th>                     <td>    6.9263</td> <td>    0.373</td> <td>   18.562</td> <td> 0.000</td> <td>    6.195</td> <td>    7.658</td>\n",
       "</tr>\n",
       "<tr>\n",
       "  <th>Miscellaneous Goods and Services Expenditure</th>  <td>    1.8684</td> <td>    0.128</td> <td>   14.651</td> <td> 0.000</td> <td>    1.618</td> <td>    2.118</td>\n",
       "</tr>\n",
       "</table>\n",
       "<table class=\"simpletable\">\n",
       "<tr>\n",
       "  <th>Omnibus:</th>       <td>32957.715</td> <th>  Durbin-Watson:     </th>   <td>   1.755</td>  \n",
       "</tr>\n",
       "<tr>\n",
       "  <th>Prob(Omnibus):</th>  <td> 0.000</td>   <th>  Jarque-Bera (JB):  </th> <td>16174586.119</td>\n",
       "</tr>\n",
       "<tr>\n",
       "  <th>Skew:</th>           <td> 5.905</td>   <th>  Prob(JB):          </th>   <td>    0.00</td>  \n",
       "</tr>\n",
       "<tr>\n",
       "  <th>Kurtosis:</th>       <td>121.301</td>  <th>  Cond. No.          </th>   <td>1.91e+05</td>  \n",
       "</tr>\n",
       "</table><br/><br/>Notes:<br/>[1] Standard Errors assume that the covariance matrix of the errors is correctly specified.<br/>[2] The condition number is large, 1.91e+05. This might indicate that there are<br/>strong multicollinearity or other numerical problems."
      ],
      "text/plain": [
       "<class 'statsmodels.iolib.summary.Summary'>\n",
       "\"\"\"\n",
       "                              OLS Regression Results                              \n",
       "==================================================================================\n",
       "Dep. Variable:     Total Household Income   R-squared:                       0.551\n",
       "Model:                                OLS   Adj. R-squared:                  0.551\n",
       "Method:                     Least Squares   F-statistic:                     5611.\n",
       "Date:                    Tue, 21 Dec 2021   Prob (F-statistic):               0.00\n",
       "Time:                            15:46:56   Log-Likelihood:            -3.3708e+05\n",
       "No. Observations:                   27464   AIC:                         6.742e+05\n",
       "Df Residuals:                       27457   BIC:                         6.742e+05\n",
       "Df Model:                               6                                         \n",
       "Covariance Type:                nonrobust                                         \n",
       "=================================================================================================================\n",
       "                                                    coef    std err          t      P>|t|      [0.025      0.975]\n",
       "-----------------------------------------------------------------------------------------------------------------\n",
       "const                                          6975.0193    822.419      8.481      0.000    5363.037    8587.001\n",
       "Total Food Expenditure                            0.9584      0.015     64.981      0.000       0.929       0.987\n",
       "Clothing, Footwear and Other Wear Expenditure     3.4954      0.180     19.395      0.000       3.142       3.849\n",
       "Housing and water Expenditure                     1.7044      0.028     61.468      0.000       1.650       1.759\n",
       "Transportation Expenditure                        1.7716      0.081     21.744      0.000       1.612       1.931\n",
       "Communication Expenditure                         6.9263      0.373     18.562      0.000       6.195       7.658\n",
       "Miscellaneous Goods and Services Expenditure      1.8684      0.128     14.651      0.000       1.618       2.118\n",
       "==============================================================================\n",
       "Omnibus:                    32957.715   Durbin-Watson:                   1.755\n",
       "Prob(Omnibus):                  0.000   Jarque-Bera (JB):         16174586.119\n",
       "Skew:                           5.905   Prob(JB):                         0.00\n",
       "Kurtosis:                     121.301   Cond. No.                     1.91e+05\n",
       "==============================================================================\n",
       "\n",
       "Notes:\n",
       "[1] Standard Errors assume that the covariance matrix of the errors is correctly specified.\n",
       "[2] The condition number is large, 1.91e+05. This might indicate that there are\n",
       "strong multicollinearity or other numerical problems.\n",
       "\"\"\""
      ]
     },
     "execution_count": 76,
     "metadata": {},
     "output_type": "execute_result"
    }
   ],
   "source": [
    "model.summary()"
   ]
  },
  {
   "cell_type": "code",
   "execution_count": 77,
   "id": "d6b5d58b",
   "metadata": {},
   "outputs": [
    {
     "data": {
      "text/plain": [
       "<AxesSubplot:ylabel='Count'>"
      ]
     },
     "execution_count": 77,
     "metadata": {},
     "output_type": "execute_result"
    },
    {
     "data": {
      "image/png": "[encoded data removed]",
      "text/plain": [
       "<Figure size 432x288 with 1 Axes>"
      ]
     },
     "metadata": {},
     "output_type": "display_data"
    }
   ],
   "source": [
    "sns.histplot(model.resid, kde = True)"
   ]
  },
  {
   "cell_type": "code",
   "execution_count": 78,
   "id": "3bbd762a",
   "metadata": {},
   "outputs": [
    {
     "data": {
      "text/plain": [
       "<matplotlib.collections.PathCollection at 0x20aeacb8fa0>"
      ]
     },
     "execution_count": 78,
     "metadata": {},
     "output_type": "execute_result"
    },
    {
     "data": {
      "image/png": "[encoded data removed]",
      "text/plain": [
       "<Figure size 432x288 with 1 Axes>"
      ]
     },
     "metadata": {},
     "output_type": "display_data"
    }
   ],
   "source": [
    "plt.scatter(y_final, model.resid)"
   ]
  },
  {
   "cell_type": "markdown",
   "id": "4b2b53e9",
   "metadata": {},
   "source": [
    "## Métricas de avaliação"
   ]
  },
  {
   "cell_type": "markdown",
   "id": "36a964eb",
   "metadata": {},
   "source": [
    "### R-quadrado\n",
    "\n",
    "O valor deve estar próximo de 1."
   ]
  },
  {
   "cell_type": "code",
   "execution_count": 79,
   "id": "1be08eb0",
   "metadata": {},
   "outputs": [
    {
     "data": {
      "text/plain": [
       "0.5159859623301302"
      ]
     },
     "execution_count": 79,
     "metadata": {},
     "output_type": "execute_result"
    }
   ],
   "source": [
    "r2_score(y_test, y_est_final)"
   ]
  },
  {
   "cell_type": "markdown",
   "id": "dfdf7cd5",
   "metadata": {},
   "source": [
    "### MAE"
   ]
  },
  {
   "cell_type": "code",
   "execution_count": 80,
   "id": "11a30651",
   "metadata": {},
   "outputs": [
    {
     "data": {
      "text/plain": [
       "31247.245195008065"
      ]
     },
     "execution_count": 80,
     "metadata": {},
     "output_type": "execute_result"
    }
   ],
   "source": [
    "mean_absolute_error(y_test, y_est_final)"
   ]
  },
  {
   "cell_type": "markdown",
   "id": "9a73d5f9",
   "metadata": {},
   "source": [
    "### MSE"
   ]
  },
  {
   "cell_type": "code",
   "execution_count": 81,
   "id": "6dd50490",
   "metadata": {},
   "outputs": [
    {
     "data": {
      "text/plain": [
       "3052141553.805008"
      ]
     },
     "execution_count": 81,
     "metadata": {},
     "output_type": "execute_result"
    }
   ],
   "source": [
    "mean_squared_error(y_test, y_est_final)"
   ]
  },
  {
   "cell_type": "markdown",
   "id": "d27ea966",
   "metadata": {},
   "source": [
    "### RMSE"
   ]
  },
  {
   "cell_type": "code",
   "execution_count": 82,
   "id": "181a4649",
   "metadata": {},
   "outputs": [
    {
     "data": {
      "text/plain": [
       "0.08381129093701292"
      ]
     },
     "execution_count": 82,
     "metadata": {},
     "output_type": "execute_result"
    }
   ],
   "source": [
    "mean_squared_log_error(y_test, y_est_final)"
   ]
  }
 ],
 "metadata": {
  "kernelspec": {
   "display_name": "Python 3 (ipykernel)",
   "language": "python",
   "name": "python3"
  },
  "language_info": {
   "codemirror_mode": {
    "name": "ipython",
    "version": 3
   },
   "file_extension": ".py",
   "mimetype": "text/x-python",
   "name": "python",
   "nbconvert_exporter": "python",
   "pygments_lexer": "ipython3",
   "version": "3.9.7"
  }
 },
 "nbformat": 4,
 "nbformat_minor": 5
}
